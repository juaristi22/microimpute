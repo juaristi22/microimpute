{
 "cells": [
  {
   "cell_type": "markdown",
   "metadata": {},
   "source": [
    "# Quantile Regression Forest (QRF) imputation\n",
    "\n",
    "This notebook demonstrates how to use MicroImpute's QRF imputer to impute values using Quantile Regression Forests. QRF is a powerful machine learning technique that extends traditional random forests to predict the entire conditional distribution of a target variable.\n",
    "\n",
    "The QRF model supports iterative imputation with a single object and workflow. Pass a list of `imputed_variables` with all variables that you hope to impute for and the model will do so without needing to fit and predict for each separately."
   ]
  },
  {
   "cell_type": "markdown",
   "metadata": {},
   "source": [
    "## Setup and data preparation"
   ]
  },
  {
   "cell_type": "code",
   "execution_count": 1,
   "metadata": {},
   "outputs": [
    {
     "name": "stderr",
     "output_type": "stream",
     "text": [
      "Error importing in API mode: ImportError(\"dlopen(/Users/movil1/envs/pe/lib/python3.11/site-packages/_rinterface_cffi_api.abi3.so, 0x0002): Library not loaded: /Library/Frameworks/R.framework/Versions/4.5-arm64/Resources/lib/libRblas.dylib\\n  Referenced from: <38886600-97A2-37BA-9F86-5263C9A3CF6D> /Users/movil1/envs/pe/lib/python3.11/site-packages/_rinterface_cffi_api.abi3.so\\n  Reason: tried: '/Library/Frameworks/R.framework/Versions/4.5-arm64/Resources/lib/libRblas.dylib' (no such file), '/System/Volumes/Preboot/Cryptexes/OS/Library/Frameworks/R.framework/Versions/4.5-arm64/Resources/lib/libRblas.dylib' (no such file), '/Library/Frameworks/R.framework/Versions/4.5-arm64/Resources/lib/libRblas.dylib' (no such file)\")\n",
      "Trying to import in ABI mode.\n"
     ]
    }
   ],
   "source": [
    "# Import necessary libraries\n",
    "import pandas as pd\n",
    "import numpy as np\n",
    "import plotly.express as px\n",
    "import plotly.graph_objects as go\n",
    "from sklearn.datasets import load_diabetes\n",
    "import warnings\n",
    "\n",
    "warnings.filterwarnings(\"ignore\")\n",
    "\n",
    "# Set pandas display options to limit table width\n",
    "pd.set_option(\"display.width\", 600)\n",
    "pd.set_option(\"display.max_columns\", 10)\n",
    "pd.set_option(\"display.expand_frame_repr\", False)\n",
    "\n",
    "# Import MicroImpute tools\n",
    "from microimpute.comparisons.data import preprocess_data\n",
    "from microimpute.evaluations import *\n",
    "from microimpute.models import QRF\n",
    "from microimpute.config import QUANTILES\n",
    "from microimpute.visualizations.plotting import model_performance_results"
   ]
  },
  {
   "cell_type": "code",
   "execution_count": 2,
   "metadata": {},
   "outputs": [
    {
     "data": {
      "text/html": [
       "<div>\n",
       "<style scoped>\n",
       "    .dataframe tbody tr th:only-of-type {\n",
       "        vertical-align: middle;\n",
       "    }\n",
       "\n",
       "    .dataframe tbody tr th {\n",
       "        vertical-align: top;\n",
       "    }\n",
       "\n",
       "    .dataframe thead th {\n",
       "        text-align: right;\n",
       "    }\n",
       "</style>\n",
       "<table border=\"1\" class=\"dataframe\">\n",
       "  <thead>\n",
       "    <tr style=\"text-align: right;\">\n",
       "      <th></th>\n",
       "      <th>age</th>\n",
       "      <th>sex</th>\n",
       "      <th>bmi</th>\n",
       "      <th>bp</th>\n",
       "      <th>s1</th>\n",
       "      <th>s2</th>\n",
       "      <th>s3</th>\n",
       "      <th>s4</th>\n",
       "      <th>s5</th>\n",
       "      <th>s6</th>\n",
       "    </tr>\n",
       "  </thead>\n",
       "  <tbody>\n",
       "    <tr>\n",
       "      <th>0</th>\n",
       "      <td>0.038076</td>\n",
       "      <td>0.050680</td>\n",
       "      <td>0.061696</td>\n",
       "      <td>0.021872</td>\n",
       "      <td>-0.044223</td>\n",
       "      <td>-0.034821</td>\n",
       "      <td>-0.043401</td>\n",
       "      <td>-0.002592</td>\n",
       "      <td>0.019907</td>\n",
       "      <td>-0.017646</td>\n",
       "    </tr>\n",
       "    <tr>\n",
       "      <th>1</th>\n",
       "      <td>-0.001882</td>\n",
       "      <td>-0.044642</td>\n",
       "      <td>-0.051474</td>\n",
       "      <td>-0.026328</td>\n",
       "      <td>-0.008449</td>\n",
       "      <td>-0.019163</td>\n",
       "      <td>0.074412</td>\n",
       "      <td>-0.039493</td>\n",
       "      <td>-0.068332</td>\n",
       "      <td>-0.092204</td>\n",
       "    </tr>\n",
       "    <tr>\n",
       "      <th>2</th>\n",
       "      <td>0.085299</td>\n",
       "      <td>0.050680</td>\n",
       "      <td>0.044451</td>\n",
       "      <td>-0.005670</td>\n",
       "      <td>-0.045599</td>\n",
       "      <td>-0.034194</td>\n",
       "      <td>-0.032356</td>\n",
       "      <td>-0.002592</td>\n",
       "      <td>0.002861</td>\n",
       "      <td>-0.025930</td>\n",
       "    </tr>\n",
       "    <tr>\n",
       "      <th>3</th>\n",
       "      <td>-0.089063</td>\n",
       "      <td>-0.044642</td>\n",
       "      <td>-0.011595</td>\n",
       "      <td>-0.036656</td>\n",
       "      <td>0.012191</td>\n",
       "      <td>0.024991</td>\n",
       "      <td>-0.036038</td>\n",
       "      <td>0.034309</td>\n",
       "      <td>0.022688</td>\n",
       "      <td>-0.009362</td>\n",
       "    </tr>\n",
       "    <tr>\n",
       "      <th>4</th>\n",
       "      <td>0.005383</td>\n",
       "      <td>-0.044642</td>\n",
       "      <td>-0.036385</td>\n",
       "      <td>0.021872</td>\n",
       "      <td>0.003935</td>\n",
       "      <td>0.015596</td>\n",
       "      <td>0.008142</td>\n",
       "      <td>-0.002592</td>\n",
       "      <td>-0.031988</td>\n",
       "      <td>-0.046641</td>\n",
       "    </tr>\n",
       "  </tbody>\n",
       "</table>\n",
       "</div>"
      ],
      "text/plain": [
       "        age       sex       bmi        bp        s1        s2        s3        s4        s5        s6\n",
       "0  0.038076  0.050680  0.061696  0.021872 -0.044223 -0.034821 -0.043401 -0.002592  0.019907 -0.017646\n",
       "1 -0.001882 -0.044642 -0.051474 -0.026328 -0.008449 -0.019163  0.074412 -0.039493 -0.068332 -0.092204\n",
       "2  0.085299  0.050680  0.044451 -0.005670 -0.045599 -0.034194 -0.032356 -0.002592  0.002861 -0.025930\n",
       "3 -0.089063 -0.044642 -0.011595 -0.036656  0.012191  0.024991 -0.036038  0.034309  0.022688 -0.009362\n",
       "4  0.005383 -0.044642 -0.036385  0.021872  0.003935  0.015596  0.008142 -0.002592 -0.031988 -0.046641"
      ]
     },
     "execution_count": 2,
     "metadata": {},
     "output_type": "execute_result"
    }
   ],
   "source": [
    "# Load the diabetes dataset\n",
    "diabetes = load_diabetes()\n",
    "df = pd.DataFrame(diabetes.data, columns=diabetes.feature_names)\n",
    "\n",
    "# Display the first few rows of the dataset\n",
    "df.head()"
   ]
  },
  {
   "cell_type": "code",
   "execution_count": 3,
   "metadata": {},
   "outputs": [
    {
     "data": {
      "text/html": [
       "<div>\n",
       "<style scoped>\n",
       "    .dataframe tbody tr th:only-of-type {\n",
       "        vertical-align: middle;\n",
       "    }\n",
       "\n",
       "    .dataframe tbody tr th {\n",
       "        vertical-align: top;\n",
       "    }\n",
       "\n",
       "    .dataframe thead th {\n",
       "        text-align: right;\n",
       "    }\n",
       "</style>\n",
       "<table border=\"1\" class=\"dataframe\">\n",
       "  <thead>\n",
       "    <tr style=\"text-align: right;\">\n",
       "      <th></th>\n",
       "      <th>age</th>\n",
       "      <th>sex</th>\n",
       "      <th>bmi</th>\n",
       "      <th>bp</th>\n",
       "      <th>s1</th>\n",
       "      <th>s4</th>\n",
       "    </tr>\n",
       "  </thead>\n",
       "  <tbody>\n",
       "    <tr>\n",
       "      <th>count</th>\n",
       "      <td>4.420000e+02</td>\n",
       "      <td>4.420000e+02</td>\n",
       "      <td>4.420000e+02</td>\n",
       "      <td>4.420000e+02</td>\n",
       "      <td>4.420000e+02</td>\n",
       "      <td>4.420000e+02</td>\n",
       "    </tr>\n",
       "    <tr>\n",
       "      <th>mean</th>\n",
       "      <td>-2.511817e-19</td>\n",
       "      <td>1.230790e-17</td>\n",
       "      <td>-2.245564e-16</td>\n",
       "      <td>-4.797570e-17</td>\n",
       "      <td>-1.381499e-17</td>\n",
       "      <td>-9.042540e-18</td>\n",
       "    </tr>\n",
       "    <tr>\n",
       "      <th>std</th>\n",
       "      <td>4.761905e-02</td>\n",
       "      <td>4.761905e-02</td>\n",
       "      <td>4.761905e-02</td>\n",
       "      <td>4.761905e-02</td>\n",
       "      <td>4.761905e-02</td>\n",
       "      <td>4.761905e-02</td>\n",
       "    </tr>\n",
       "    <tr>\n",
       "      <th>min</th>\n",
       "      <td>-1.072256e-01</td>\n",
       "      <td>-4.464164e-02</td>\n",
       "      <td>-9.027530e-02</td>\n",
       "      <td>-1.123988e-01</td>\n",
       "      <td>-1.267807e-01</td>\n",
       "      <td>-7.639450e-02</td>\n",
       "    </tr>\n",
       "    <tr>\n",
       "      <th>25%</th>\n",
       "      <td>-3.729927e-02</td>\n",
       "      <td>-4.464164e-02</td>\n",
       "      <td>-3.422907e-02</td>\n",
       "      <td>-3.665608e-02</td>\n",
       "      <td>-3.424784e-02</td>\n",
       "      <td>-3.949338e-02</td>\n",
       "    </tr>\n",
       "    <tr>\n",
       "      <th>50%</th>\n",
       "      <td>5.383060e-03</td>\n",
       "      <td>-4.464164e-02</td>\n",
       "      <td>-7.283766e-03</td>\n",
       "      <td>-5.670422e-03</td>\n",
       "      <td>-4.320866e-03</td>\n",
       "      <td>-2.592262e-03</td>\n",
       "    </tr>\n",
       "    <tr>\n",
       "      <th>75%</th>\n",
       "      <td>3.807591e-02</td>\n",
       "      <td>5.068012e-02</td>\n",
       "      <td>3.124802e-02</td>\n",
       "      <td>3.564379e-02</td>\n",
       "      <td>2.835801e-02</td>\n",
       "      <td>3.430886e-02</td>\n",
       "    </tr>\n",
       "    <tr>\n",
       "      <th>max</th>\n",
       "      <td>1.107267e-01</td>\n",
       "      <td>5.068012e-02</td>\n",
       "      <td>1.705552e-01</td>\n",
       "      <td>1.320436e-01</td>\n",
       "      <td>1.539137e-01</td>\n",
       "      <td>1.852344e-01</td>\n",
       "    </tr>\n",
       "  </tbody>\n",
       "</table>\n",
       "</div>"
      ],
      "text/plain": [
       "                age           sex           bmi            bp            s1            s4\n",
       "count  4.420000e+02  4.420000e+02  4.420000e+02  4.420000e+02  4.420000e+02  4.420000e+02\n",
       "mean  -2.511817e-19  1.230790e-17 -2.245564e-16 -4.797570e-17 -1.381499e-17 -9.042540e-18\n",
       "std    4.761905e-02  4.761905e-02  4.761905e-02  4.761905e-02  4.761905e-02  4.761905e-02\n",
       "min   -1.072256e-01 -4.464164e-02 -9.027530e-02 -1.123988e-01 -1.267807e-01 -7.639450e-02\n",
       "25%   -3.729927e-02 -4.464164e-02 -3.422907e-02 -3.665608e-02 -3.424784e-02 -3.949338e-02\n",
       "50%    5.383060e-03 -4.464164e-02 -7.283766e-03 -5.670422e-03 -4.320866e-03 -2.592262e-03\n",
       "75%    3.807591e-02  5.068012e-02  3.124802e-02  3.564379e-02  2.835801e-02  3.430886e-02\n",
       "max    1.107267e-01  5.068012e-02  1.705552e-01  1.320436e-01  1.539137e-01  1.852344e-01"
      ]
     },
     "execution_count": 3,
     "metadata": {},
     "output_type": "execute_result"
    }
   ],
   "source": [
    "# Define variables for the model\n",
    "predictors = [\"age\", \"sex\", \"bmi\", \"bp\"]\n",
    "imputed_variables = [\n",
    "    \"s1\",\n",
    "    \"s4\",\n",
    "]  # We'll impute 's1' (total serum cholesterol) and 's4' (total cholesterol/HDL ratio)\n",
    "\n",
    "# Create a subset with only needed columns\n",
    "diabetes_df = df[predictors + imputed_variables]\n",
    "\n",
    "# Display summary statistics\n",
    "diabetes_df.describe()"
   ]
  },
  {
   "cell_type": "code",
   "execution_count": 5,
   "metadata": {},
   "outputs": [
    {
     "name": "stdout",
     "output_type": "stream",
     "text": [
      "Training set size: 353 records\n",
      "Testing set size: 89 records\n"
     ]
    }
   ],
   "source": [
    "# Split data into training and testing sets\n",
    "X_train, X_test, dummy_info = preprocess_data(diabetes_df)\n",
    "\n",
    "for col, dummy_cols in dummy_info[\"column_mapping\"].items():\n",
    "        if col in predictors:\n",
    "            predictors.remove(col)\n",
    "            predictors.extend(dummy_cols)\n",
    "        elif col in imputed_variables:\n",
    "            imputed_variables.remove(col)\n",
    "            imputed_variables.extend(dummy_cols)\n",
    "\n",
    "# Let's see how many records we have in each set\n",
    "print(f\"Training set size: {X_train.shape[0]} records\")\n",
    "print(f\"Testing set size: {X_test.shape[0]} records\")"
   ]
  },
  {
   "cell_type": "markdown",
   "metadata": {},
   "source": [
    "## Simulating missing data\n",
    "\n",
    "For this example, we'll simulate missing data in our test set by removing the values we want to impute."
   ]
  },
  {
   "cell_type": "code",
   "execution_count": 6,
   "metadata": {},
   "outputs": [
    {
     "data": {
      "text/html": [
       "<div>\n",
       "<style scoped>\n",
       "    .dataframe tbody tr th:only-of-type {\n",
       "        vertical-align: middle;\n",
       "    }\n",
       "\n",
       "    .dataframe tbody tr th {\n",
       "        vertical-align: top;\n",
       "    }\n",
       "\n",
       "    .dataframe thead th {\n",
       "        text-align: right;\n",
       "    }\n",
       "</style>\n",
       "<table border=\"1\" class=\"dataframe\">\n",
       "  <thead>\n",
       "    <tr style=\"text-align: right;\">\n",
       "      <th></th>\n",
       "      <th>age</th>\n",
       "      <th>sex</th>\n",
       "      <th>bmi</th>\n",
       "      <th>bp</th>\n",
       "      <th>s1</th>\n",
       "      <th>s4</th>\n",
       "    </tr>\n",
       "  </thead>\n",
       "  <tbody>\n",
       "    <tr>\n",
       "      <th>287</th>\n",
       "      <td>0.045341</td>\n",
       "      <td>-0.044642</td>\n",
       "      <td>-0.006206</td>\n",
       "      <td>-0.015999</td>\n",
       "      <td>NaN</td>\n",
       "      <td>NaN</td>\n",
       "    </tr>\n",
       "    <tr>\n",
       "      <th>211</th>\n",
       "      <td>0.092564</td>\n",
       "      <td>-0.044642</td>\n",
       "      <td>0.036907</td>\n",
       "      <td>0.021872</td>\n",
       "      <td>NaN</td>\n",
       "      <td>NaN</td>\n",
       "    </tr>\n",
       "    <tr>\n",
       "      <th>72</th>\n",
       "      <td>0.063504</td>\n",
       "      <td>0.050680</td>\n",
       "      <td>-0.004050</td>\n",
       "      <td>-0.012556</td>\n",
       "      <td>NaN</td>\n",
       "      <td>NaN</td>\n",
       "    </tr>\n",
       "    <tr>\n",
       "      <th>321</th>\n",
       "      <td>0.096197</td>\n",
       "      <td>-0.044642</td>\n",
       "      <td>0.051996</td>\n",
       "      <td>0.079265</td>\n",
       "      <td>NaN</td>\n",
       "      <td>NaN</td>\n",
       "    </tr>\n",
       "    <tr>\n",
       "      <th>73</th>\n",
       "      <td>0.012648</td>\n",
       "      <td>0.050680</td>\n",
       "      <td>-0.020218</td>\n",
       "      <td>-0.002228</td>\n",
       "      <td>NaN</td>\n",
       "      <td>NaN</td>\n",
       "    </tr>\n",
       "  </tbody>\n",
       "</table>\n",
       "</div>"
      ],
      "text/plain": [
       "          age       sex       bmi        bp  s1  s4\n",
       "287  0.045341 -0.044642 -0.006206 -0.015999 NaN NaN\n",
       "211  0.092564 -0.044642  0.036907  0.021872 NaN NaN\n",
       "72   0.063504  0.050680 -0.004050 -0.012556 NaN NaN\n",
       "321  0.096197 -0.044642  0.051996  0.079265 NaN NaN\n",
       "73   0.012648  0.050680 -0.020218 -0.002228 NaN NaN"
      ]
     },
     "execution_count": 6,
     "metadata": {},
     "output_type": "execute_result"
    }
   ],
   "source": [
    "# Create a copy of the test set with missing values\n",
    "X_test_missing = X_test.copy()\n",
    "\n",
    "# Store the actual values for later comparison\n",
    "actual_values = X_test_missing[imputed_variables].copy()\n",
    "\n",
    "# Remove the values to be imputed\n",
    "X_test_missing[imputed_variables] = np.nan\n",
    "\n",
    "X_test_missing.head()"
   ]
  },
  {
   "cell_type": "markdown",
   "metadata": {},
   "source": [
    "## Training and using the QRF imputer\n",
    "\n",
    "Now we'll train the QRF imputer and use it to impute the missing values in our test set."
   ]
  },
  {
   "cell_type": "code",
   "execution_count": 7,
   "metadata": {},
   "outputs": [
    {
     "name": "stdout",
     "output_type": "stream",
     "text": [
      "Modeling these quantiles: [0.05, 0.1, 0.15, 0.2, 0.25, 0.3, 0.35, 0.4, 0.45, 0.5, 0.55, 0.6, 0.65, 0.7, 0.75, 0.8, 0.85, 0.9, 0.95]\n"
     ]
    }
   ],
   "source": [
    "# Define quantiles we want to model\n",
    "# We'll use the default quantiles from the config module\n",
    "print(f\"Modeling these quantiles: {QUANTILES}\")"
   ]
  },
  {
   "cell_type": "code",
   "execution_count": 8,
   "metadata": {},
   "outputs": [],
   "source": [
    "# Initialize the QRF imputer with some custom parameters\n",
    "# You can customize the random forest by passing additional parameters\n",
    "qrf_imputer = QRF()\n",
    "\n",
    "# Fit the model with our training data\n",
    "# This trains a quantile random forest model\n",
    "fitted_qrf_imputer = qrf_imputer.fit(\n",
    "    X_train,\n",
    "    predictors,\n",
    "    imputed_variables,\n",
    "    n_estimators=100,\n",
    "    min_samples_leaf=5,\n",
    ")"
   ]
  },
  {
   "cell_type": "code",
   "execution_count": 9,
   "metadata": {},
   "outputs": [
    {
     "data": {
      "text/html": [
       "<div>\n",
       "<style scoped>\n",
       "    .dataframe tbody tr th:only-of-type {\n",
       "        vertical-align: middle;\n",
       "    }\n",
       "\n",
       "    .dataframe tbody tr th {\n",
       "        vertical-align: top;\n",
       "    }\n",
       "\n",
       "    .dataframe thead th {\n",
       "        text-align: right;\n",
       "    }\n",
       "</style>\n",
       "<table border=\"1\" class=\"dataframe\">\n",
       "  <thead>\n",
       "    <tr style=\"text-align: right;\">\n",
       "      <th></th>\n",
       "      <th>s1</th>\n",
       "      <th>s4</th>\n",
       "    </tr>\n",
       "  </thead>\n",
       "  <tbody>\n",
       "    <tr>\n",
       "      <th>0</th>\n",
       "      <td>-0.015328</td>\n",
       "      <td>-0.039493</td>\n",
       "    </tr>\n",
       "    <tr>\n",
       "      <th>1</th>\n",
       "      <td>0.039710</td>\n",
       "      <td>-0.002592</td>\n",
       "    </tr>\n",
       "    <tr>\n",
       "      <th>2</th>\n",
       "      <td>0.069981</td>\n",
       "      <td>0.034309</td>\n",
       "    </tr>\n",
       "    <tr>\n",
       "      <th>3</th>\n",
       "      <td>0.046589</td>\n",
       "      <td>0.034309</td>\n",
       "    </tr>\n",
       "    <tr>\n",
       "      <th>4</th>\n",
       "      <td>0.031454</td>\n",
       "      <td>0.034309</td>\n",
       "    </tr>\n",
       "  </tbody>\n",
       "</table>\n",
       "</div>"
      ],
      "text/plain": [
       "         s1        s4\n",
       "0 -0.015328 -0.039493\n",
       "1  0.039710 -0.002592\n",
       "2  0.069981  0.034309\n",
       "3  0.046589  0.034309\n",
       "4  0.031454  0.034309"
      ]
     },
     "execution_count": 9,
     "metadata": {},
     "output_type": "execute_result"
    }
   ],
   "source": [
    "# Impute values in the test set\n",
    "# This uses the trained QRF model to predict missing values at specified quantiles\n",
    "imputed_values = fitted_qrf_imputer.predict(X_test_missing, QUANTILES)\n",
    "\n",
    "# Display the first few imputed values at the median (0.5 quantile)\n",
    "imputed_values[0.5].head()"
   ]
  },
  {
   "cell_type": "markdown",
   "metadata": {},
   "source": [
    "## Evaluating the imputation results\n",
    "\n",
    "Now let's compare the imputed values with the actual values to evaluate the performance of our imputer. To understand QRF's power to capture variability accross quantiles let us find and plot the prediction closest to the true value across quantiles for each data point."
   ]
  },
  {
   "cell_type": "code",
   "execution_count": 10,
   "metadata": {},
   "outputs": [
    {
     "data": {
      "application/vnd.plotly.v1+json": {
       "config": {
        "plotlyServerURL": "https://plot.ly"
       },
       "data": [
        {
         "hovertemplate": "Actual=%{x}<br>ClosestPrediction=%{y}<extra></extra>",
         "legendgroup": "",
         "marker": {
          "color": "#636efa",
          "opacity": 0.7,
          "symbol": "circle"
         },
         "mode": "markers",
         "name": "",
         "orientation": "v",
         "showlegend": false,
         "type": "scatter",
         "x": [
          0.12501870313429186,
          0.03430885887772673,
          -0.0249601584096303,
          -0.03949338287409329,
          0.10300345740307394,
          -0.002592261998183278,
          0.05484510736603471,
          0.14132210941786577,
          0.03833367306762126,
          0.03430885887772673,
          0.09887559882847057,
          -0.002592261998183278,
          0.030077955918414535,
          0.03430885887772673,
          0.10988322169407955,
          0.03430885887772673,
          -0.0249601584096303,
          -0.002592261998183278,
          0.03695772020942014,
          -0.002592261998183278,
          0.04658939021682799,
          -0.024732934523729287,
          -0.06761469701386505,
          -0.002592261998183278,
          -0.05523112129005496,
          -0.0763945037500033,
          0.014942474478202204,
          0.03430885887772673,
          -0.027712064126032544,
          -0.03949338287409329,
          -0.07311850844666953,
          -0.03949338287409329,
          0.03833367306762126,
          0.03430885887772673,
          0.020446285911006685,
          0.07120997975363674,
          -0.12678066991651324,
          -0.047980640675552584,
          0.013566521620001083,
          0.03430885887772673,
          -0.012576582685820214,
          -0.002592261998183278,
          0.045213437358626866,
          -0.002592261998183278,
          -0.007072771253015731,
          -0.03949338287409329,
          0.016318427336403322,
          -0.002592261998183278,
          -0.009824676969417972,
          -0.03949338287409329,
          -0.030463969842434782,
          -0.002592261998183278,
          -0.02220825269322806,
          -0.002592261998183278,
          -0.051103262715451604,
          0.03430885887772673,
          -0.0249601584096303,
          -0.0763945037500033,
          0.0342058144930179,
          -0.002592261998183278,
          0.0080627101871966,
          0.021024455362399115,
          0.0025588987543921156,
          -0.002592261998183278,
          0.0025588987543921156,
          -0.002592261998183278,
          -0.016704441260423575,
          0.03430885887772673,
          0.045213437358626866,
          0.03615391492152222,
          0.07823630595545376,
          -0.002592261998183278,
          -0.011200629827619093,
          -0.002592261998183278,
          0.03145390877661565,
          0.019917421736121838,
          0.024574144485610048,
          0.03430885887772673,
          -0.001568959820211247,
          -0.03949338287409329,
          -0.00019300696201012598,
          -0.03949338287409329,
          -0.00019300696201012598,
          -0.05056371913686628,
          -0.06623874415566393,
          -0.002592261998183278,
          -0.004320865536613489,
          0.07120997975363674,
          0.04383748450042574,
          -0.014400620678474476,
          0.03282986163481677,
          -0.03949338287409329,
          -0.038719686991641515,
          -0.03949338287409329,
          -0.04422349842444599,
          -0.0763945037500033,
          -0.035967781275239266,
          -0.05167075276314359,
          -0.007072771253015731,
          -0.002592261998183278,
          -0.07311850844666953,
          -0.0763945037500033,
          -0.019456346976825818,
          -0.03949338287409329,
          -0.007072771253015731,
          0.07120997975363674,
          -0.008448724111216851,
          -0.03949338287409329,
          0.08924392882106273,
          0.10811110062954676,
          -0.0249601584096303,
          -0.03949338287409329,
          0.03282986163481677,
          -0.002592261998183278,
          -0.04422349842444599,
          -0.002592261998183278,
          -0.0029449126784123676,
          -0.03949338287409329,
          -0.033215875558837024,
          -0.0763945037500033,
          0.08236416453005713,
          0.07120997975363674,
          -0.0318399227006359,
          0.0029429061332032365,
          -0.04972730985725048,
          -0.03949338287409329,
          0.010814615903598841,
          -0.03949338287409329,
          -0.005696818394814609,
          0.03430885887772673,
          0.06172487165704031,
          -0.002592261998183278,
          0.05622106022423583,
          0.07120997975363674,
          -0.007072771253015731,
          -0.002592261998183278,
          -0.06348683843926169,
          -0.03949338287409329,
          -0.015328488402222454,
          0.03430885887772673,
          -0.019456346976825818,
          0.03430885887772673,
          0.039709625925822375,
          0.07120997975363674,
          0.045213437358626866,
          0.07120997975363674,
          -0.04972730985725048,
          0.01585829843977173,
          -0.026336111267831423,
          -0.03949338287409329,
          0.03833367306762126,
          0.10811110062954676,
          0.08511607024645937,
          0.03430885887772673,
          0.016318427336403322,
          0.02655962349378563,
          0.020446285911006685,
          -0.002592261998183278,
          0.01219056876179996,
          0.10811110062954676,
          -0.0029449126784123676,
          -0.03949338287409329,
          -0.046975404140848234,
          -0.03949338287409329,
          -0.0029449126784123676,
          -0.047242618258034386,
          0.04658939021682799,
          -0.03949338287409329,
          -0.007072771253015731,
          -0.03949338287409329,
          -0.030463969842434782,
          -0.0763945037500033,
          -0.08962994274508297,
          -0.0763945037500033,
          -0.05935897986465832,
          -0.03949338287409329,
          -0.030463969842434782,
          -0.002592261998183278
         ],
         "xaxis": "x",
         "y": [
          0.06310082451524143,
          -0.002592261998183278,
          -0.027712064126032544,
          -0.03949338287409329,
          0.08786797596286161,
          -0.002592261998183278,
          0.05759701308243695,
          0.07120997975363674,
          0.03145390877661565,
          0.03430885887772673,
          0.04246153164222462,
          -0.002592261998183278,
          0.020446285911006685,
          0.03430885887772673,
          0.04796534307502911,
          0.03430885887772673,
          -0.0249601584096303,
          -0.002592261998183278,
          0.03695772020942014,
          -0.002592261998183278,
          0.04246153164222462,
          -0.009972486173365287,
          -0.05385516843185383,
          -0.002592261998183278,
          -0.060734932722859444,
          -0.0763945037500033,
          0.014942474478202204,
          0.03430885887772673,
          -0.013952535544021335,
          -0.03949338287409329,
          -0.016704441260423575,
          -0.03949338287409329,
          0.038333673067621185,
          0.03430885887772673,
          0.028702003060213414,
          0.07120997975363674,
          -0.02358420555142918,
          -0.03949338287409329,
          0.017694380194604446,
          0.03430885887772673,
          -0.02358420555142918,
          -0.002592261998183278,
          0.05209320164963247,
          -0.021411833644897377,
          -0.007072771253015751,
          -0.03949338287409329,
          0.020446285911006685,
          -0.002592261998183278,
          -0.009824676969417972,
          -0.03949338287409329,
          -0.027712064126032544,
          -0.002592261998183278,
          -0.018080394118624697,
          -0.002592261998183278,
          -0.05935897986465832,
          0.03430885887772673,
          -0.03183992270063598,
          -0.0763945037500033,
          0.03833367306762126,
          -0.002592261998183278,
          0.02319819162740893,
          -0.002592261998183278,
          -0.00019300696201012598,
          -0.002592261998183278,
          0.0011829458961909658,
          -0.002592261998183278,
          -0.009824676969417983,
          0.03430885887772673,
          0.04658939021682799,
          0.03430885887772673,
          0.06034891879883919,
          -0.002592261998183278,
          0.001182945896190995,
          -0.002592261998183278,
          0.020446285911006685,
          0.03430885887772673,
          0.019070333052805567,
          -0.002592261998183278,
          0.001182945896190995,
          -0.03949338287409329,
          0.001182945896190995,
          -0.03949338287409329,
          -0.004320865536613489,
          -0.03949338287409329,
          -0.046975404140848234,
          -0.002592261998183278,
          0.001182945896190995,
          0.07120997975363674,
          0.03558176735121902,
          -0.002592261998183278,
          0.020446285911006685,
          -0.03949338287409329,
          -0.038719686991641515,
          -0.03949338287409329,
          -0.037343734133440394,
          -0.0763945037500033,
          -0.038719686991641536,
          -0.03949338287409329,
          -0.009824676969417983,
          -0.002592261998183278,
          -0.04835135699904936,
          -0.021411833644897377,
          -0.037343734133440394,
          -0.03949338287409329,
          -0.0029449126784123775,
          0.07120997975363674,
          -0.009824676969417972,
          -0.03949338287409329,
          0.05484510736603471,
          0.07120997975363674,
          -0.016704441260423575,
          -0.03949338287409329,
          -0.005696818394814609,
          -0.002592261998183278,
          -0.04284754556624487,
          -0.002592261998183278,
          -0.0029449126784123676,
          -0.03949338287409329,
          -0.037343734133440394,
          -0.0763945037500033,
          0.04796534307502911,
          -0.002592261998183278,
          -0.037343734133440394,
          -0.002592261998183278,
          -0.037343734133440394,
          -0.03949338287409329,
          0.001182945896190995,
          -0.03949338287409329,
          -0.008448724111216851,
          -0.002592261998183278,
          0.06447677737344255,
          -0.002592261998183278,
          0.06034891879883919,
          0.07120997975363674,
          -0.004320865536613489,
          -0.002592261998183278,
          -0.06623874415566393,
          -0.03949338287409329,
          -0.012576582685820225,
          0.03430885887772673,
          -0.016704441260423575,
          0.03430885887772673,
          0.030077955918414535,
          0.07120997975363674,
          0.05071724879143135,
          0.07120997975363674,
          -0.05660707414825608,
          -0.0018542395806650938,
          -0.0318399227006359,
          -0.03949338287409329,
          0.027326050202012293,
          0.03430885887772673,
          0.08786797596286161,
          0.03430885887772673,
          0.012190568761799941,
          0.003311917341962329,
          0.020446285911006685,
          -0.002592261998183278,
          0.013566521620001064,
          -0.002592261998183278,
          0.00806271018719654,
          -0.03949338287409329,
          -0.046975404140848234,
          -0.03949338287409329,
          -0.0015689598202112665,
          -0.03949338287409329,
          0.01219056876179996,
          -0.03949338287409329,
          -0.0043208655366134986,
          -0.03949338287409329,
          -0.033215875558837024,
          -0.0763945037500033,
          -0.06623874415566393,
          -0.0763945037500033,
          -0.0579830270064572,
          -0.03949338287409329,
          -0.0249601584096303,
          -0.002592261998183278
         ],
         "yaxis": "y"
        },
        {
         "line": {
          "color": "red",
          "dash": "dash"
         },
         "mode": "lines",
         "name": "Perfect Prediction",
         "type": "scatter",
         "x": [
          -0.12678066991651324,
          0.14132210941786577
         ],
         "y": [
          -0.12678066991651324,
          0.14132210941786577
         ]
        }
       ],
       "layout": {
        "height": 600,
        "legend": {
         "tracegroupgap": 0
        },
        "margin": {
         "b": 50,
         "l": 50,
         "r": 50,
         "t": 80
        },
        "template": {
         "data": {
          "bar": [
           {
            "error_x": {
             "color": "#2a3f5f"
            },
            "error_y": {
             "color": "#2a3f5f"
            },
            "marker": {
             "line": {
              "color": "white",
              "width": 0.5
             },
             "pattern": {
              "fillmode": "overlay",
              "size": 10,
              "solidity": 0.2
             }
            },
            "type": "bar"
           }
          ],
          "barpolar": [
           {
            "marker": {
             "line": {
              "color": "white",
              "width": 0.5
             },
             "pattern": {
              "fillmode": "overlay",
              "size": 10,
              "solidity": 0.2
             }
            },
            "type": "barpolar"
           }
          ],
          "carpet": [
           {
            "aaxis": {
             "endlinecolor": "#2a3f5f",
             "gridcolor": "#C8D4E3",
             "linecolor": "#C8D4E3",
             "minorgridcolor": "#C8D4E3",
             "startlinecolor": "#2a3f5f"
            },
            "baxis": {
             "endlinecolor": "#2a3f5f",
             "gridcolor": "#C8D4E3",
             "linecolor": "#C8D4E3",
             "minorgridcolor": "#C8D4E3",
             "startlinecolor": "#2a3f5f"
            },
            "type": "carpet"
           }
          ],
          "choropleth": [
           {
            "colorbar": {
             "outlinewidth": 0,
             "ticks": ""
            },
            "type": "choropleth"
           }
          ],
          "contour": [
           {
            "colorbar": {
             "outlinewidth": 0,
             "ticks": ""
            },
            "colorscale": [
             [
              0,
              "#0d0887"
             ],
             [
              0.1111111111111111,
              "#46039f"
             ],
             [
              0.2222222222222222,
              "#7201a8"
             ],
             [
              0.3333333333333333,
              "#9c179e"
             ],
             [
              0.4444444444444444,
              "#bd3786"
             ],
             [
              0.5555555555555556,
              "#d8576b"
             ],
             [
              0.6666666666666666,
              "#ed7953"
             ],
             [
              0.7777777777777778,
              "#fb9f3a"
             ],
             [
              0.8888888888888888,
              "#fdca26"
             ],
             [
              1,
              "#f0f921"
             ]
            ],
            "type": "contour"
           }
          ],
          "contourcarpet": [
           {
            "colorbar": {
             "outlinewidth": 0,
             "ticks": ""
            },
            "type": "contourcarpet"
           }
          ],
          "heatmap": [
           {
            "colorbar": {
             "outlinewidth": 0,
             "ticks": ""
            },
            "colorscale": [
             [
              0,
              "#0d0887"
             ],
             [
              0.1111111111111111,
              "#46039f"
             ],
             [
              0.2222222222222222,
              "#7201a8"
             ],
             [
              0.3333333333333333,
              "#9c179e"
             ],
             [
              0.4444444444444444,
              "#bd3786"
             ],
             [
              0.5555555555555556,
              "#d8576b"
             ],
             [
              0.6666666666666666,
              "#ed7953"
             ],
             [
              0.7777777777777778,
              "#fb9f3a"
             ],
             [
              0.8888888888888888,
              "#fdca26"
             ],
             [
              1,
              "#f0f921"
             ]
            ],
            "type": "heatmap"
           }
          ],
          "heatmapgl": [
           {
            "colorbar": {
             "outlinewidth": 0,
             "ticks": ""
            },
            "colorscale": [
             [
              0,
              "#0d0887"
             ],
             [
              0.1111111111111111,
              "#46039f"
             ],
             [
              0.2222222222222222,
              "#7201a8"
             ],
             [
              0.3333333333333333,
              "#9c179e"
             ],
             [
              0.4444444444444444,
              "#bd3786"
             ],
             [
              0.5555555555555556,
              "#d8576b"
             ],
             [
              0.6666666666666666,
              "#ed7953"
             ],
             [
              0.7777777777777778,
              "#fb9f3a"
             ],
             [
              0.8888888888888888,
              "#fdca26"
             ],
             [
              1,
              "#f0f921"
             ]
            ],
            "type": "heatmapgl"
           }
          ],
          "histogram": [
           {
            "marker": {
             "pattern": {
              "fillmode": "overlay",
              "size": 10,
              "solidity": 0.2
             }
            },
            "type": "histogram"
           }
          ],
          "histogram2d": [
           {
            "colorbar": {
             "outlinewidth": 0,
             "ticks": ""
            },
            "colorscale": [
             [
              0,
              "#0d0887"
             ],
             [
              0.1111111111111111,
              "#46039f"
             ],
             [
              0.2222222222222222,
              "#7201a8"
             ],
             [
              0.3333333333333333,
              "#9c179e"
             ],
             [
              0.4444444444444444,
              "#bd3786"
             ],
             [
              0.5555555555555556,
              "#d8576b"
             ],
             [
              0.6666666666666666,
              "#ed7953"
             ],
             [
              0.7777777777777778,
              "#fb9f3a"
             ],
             [
              0.8888888888888888,
              "#fdca26"
             ],
             [
              1,
              "#f0f921"
             ]
            ],
            "type": "histogram2d"
           }
          ],
          "histogram2dcontour": [
           {
            "colorbar": {
             "outlinewidth": 0,
             "ticks": ""
            },
            "colorscale": [
             [
              0,
              "#0d0887"
             ],
             [
              0.1111111111111111,
              "#46039f"
             ],
             [
              0.2222222222222222,
              "#7201a8"
             ],
             [
              0.3333333333333333,
              "#9c179e"
             ],
             [
              0.4444444444444444,
              "#bd3786"
             ],
             [
              0.5555555555555556,
              "#d8576b"
             ],
             [
              0.6666666666666666,
              "#ed7953"
             ],
             [
              0.7777777777777778,
              "#fb9f3a"
             ],
             [
              0.8888888888888888,
              "#fdca26"
             ],
             [
              1,
              "#f0f921"
             ]
            ],
            "type": "histogram2dcontour"
           }
          ],
          "mesh3d": [
           {
            "colorbar": {
             "outlinewidth": 0,
             "ticks": ""
            },
            "type": "mesh3d"
           }
          ],
          "parcoords": [
           {
            "line": {
             "colorbar": {
              "outlinewidth": 0,
              "ticks": ""
             }
            },
            "type": "parcoords"
           }
          ],
          "pie": [
           {
            "automargin": true,
            "type": "pie"
           }
          ],
          "scatter": [
           {
            "fillpattern": {
             "fillmode": "overlay",
             "size": 10,
             "solidity": 0.2
            },
            "type": "scatter"
           }
          ],
          "scatter3d": [
           {
            "line": {
             "colorbar": {
              "outlinewidth": 0,
              "ticks": ""
             }
            },
            "marker": {
             "colorbar": {
              "outlinewidth": 0,
              "ticks": ""
             }
            },
            "type": "scatter3d"
           }
          ],
          "scattercarpet": [
           {
            "marker": {
             "colorbar": {
              "outlinewidth": 0,
              "ticks": ""
             }
            },
            "type": "scattercarpet"
           }
          ],
          "scattergeo": [
           {
            "marker": {
             "colorbar": {
              "outlinewidth": 0,
              "ticks": ""
             }
            },
            "type": "scattergeo"
           }
          ],
          "scattergl": [
           {
            "marker": {
             "colorbar": {
              "outlinewidth": 0,
              "ticks": ""
             }
            },
            "type": "scattergl"
           }
          ],
          "scattermapbox": [
           {
            "marker": {
             "colorbar": {
              "outlinewidth": 0,
              "ticks": ""
             }
            },
            "type": "scattermapbox"
           }
          ],
          "scatterpolar": [
           {
            "marker": {
             "colorbar": {
              "outlinewidth": 0,
              "ticks": ""
             }
            },
            "type": "scatterpolar"
           }
          ],
          "scatterpolargl": [
           {
            "marker": {
             "colorbar": {
              "outlinewidth": 0,
              "ticks": ""
             }
            },
            "type": "scatterpolargl"
           }
          ],
          "scatterternary": [
           {
            "marker": {
             "colorbar": {
              "outlinewidth": 0,
              "ticks": ""
             }
            },
            "type": "scatterternary"
           }
          ],
          "surface": [
           {
            "colorbar": {
             "outlinewidth": 0,
             "ticks": ""
            },
            "colorscale": [
             [
              0,
              "#0d0887"
             ],
             [
              0.1111111111111111,
              "#46039f"
             ],
             [
              0.2222222222222222,
              "#7201a8"
             ],
             [
              0.3333333333333333,
              "#9c179e"
             ],
             [
              0.4444444444444444,
              "#bd3786"
             ],
             [
              0.5555555555555556,
              "#d8576b"
             ],
             [
              0.6666666666666666,
              "#ed7953"
             ],
             [
              0.7777777777777778,
              "#fb9f3a"
             ],
             [
              0.8888888888888888,
              "#fdca26"
             ],
             [
              1,
              "#f0f921"
             ]
            ],
            "type": "surface"
           }
          ],
          "table": [
           {
            "cells": {
             "fill": {
              "color": "#EBF0F8"
             },
             "line": {
              "color": "white"
             }
            },
            "header": {
             "fill": {
              "color": "#C8D4E3"
             },
             "line": {
              "color": "white"
             }
            },
            "type": "table"
           }
          ]
         },
         "layout": {
          "annotationdefaults": {
           "arrowcolor": "#2a3f5f",
           "arrowhead": 0,
           "arrowwidth": 1
          },
          "autotypenumbers": "strict",
          "coloraxis": {
           "colorbar": {
            "outlinewidth": 0,
            "ticks": ""
           }
          },
          "colorscale": {
           "diverging": [
            [
             0,
             "#8e0152"
            ],
            [
             0.1,
             "#c51b7d"
            ],
            [
             0.2,
             "#de77ae"
            ],
            [
             0.3,
             "#f1b6da"
            ],
            [
             0.4,
             "#fde0ef"
            ],
            [
             0.5,
             "#f7f7f7"
            ],
            [
             0.6,
             "#e6f5d0"
            ],
            [
             0.7,
             "#b8e186"
            ],
            [
             0.8,
             "#7fbc41"
            ],
            [
             0.9,
             "#4d9221"
            ],
            [
             1,
             "#276419"
            ]
           ],
           "sequential": [
            [
             0,
             "#0d0887"
            ],
            [
             0.1111111111111111,
             "#46039f"
            ],
            [
             0.2222222222222222,
             "#7201a8"
            ],
            [
             0.3333333333333333,
             "#9c179e"
            ],
            [
             0.4444444444444444,
             "#bd3786"
            ],
            [
             0.5555555555555556,
             "#d8576b"
            ],
            [
             0.6666666666666666,
             "#ed7953"
            ],
            [
             0.7777777777777778,
             "#fb9f3a"
            ],
            [
             0.8888888888888888,
             "#fdca26"
            ],
            [
             1,
             "#f0f921"
            ]
           ],
           "sequentialminus": [
            [
             0,
             "#0d0887"
            ],
            [
             0.1111111111111111,
             "#46039f"
            ],
            [
             0.2222222222222222,
             "#7201a8"
            ],
            [
             0.3333333333333333,
             "#9c179e"
            ],
            [
             0.4444444444444444,
             "#bd3786"
            ],
            [
             0.5555555555555556,
             "#d8576b"
            ],
            [
             0.6666666666666666,
             "#ed7953"
            ],
            [
             0.7777777777777778,
             "#fb9f3a"
            ],
            [
             0.8888888888888888,
             "#fdca26"
            ],
            [
             1,
             "#f0f921"
            ]
           ]
          },
          "colorway": [
           "#636efa",
           "#EF553B",
           "#00cc96",
           "#ab63fa",
           "#FFA15A",
           "#19d3f3",
           "#FF6692",
           "#B6E880",
           "#FF97FF",
           "#FECB52"
          ],
          "font": {
           "color": "#2a3f5f"
          },
          "geo": {
           "bgcolor": "white",
           "lakecolor": "white",
           "landcolor": "white",
           "showlakes": true,
           "showland": true,
           "subunitcolor": "#C8D4E3"
          },
          "hoverlabel": {
           "align": "left"
          },
          "hovermode": "closest",
          "mapbox": {
           "style": "light"
          },
          "paper_bgcolor": "white",
          "plot_bgcolor": "white",
          "polar": {
           "angularaxis": {
            "gridcolor": "#EBF0F8",
            "linecolor": "#EBF0F8",
            "ticks": ""
           },
           "bgcolor": "white",
           "radialaxis": {
            "gridcolor": "#EBF0F8",
            "linecolor": "#EBF0F8",
            "ticks": ""
           }
          },
          "scene": {
           "xaxis": {
            "backgroundcolor": "white",
            "gridcolor": "#DFE8F3",
            "gridwidth": 2,
            "linecolor": "#EBF0F8",
            "showbackground": true,
            "ticks": "",
            "zerolinecolor": "#EBF0F8"
           },
           "yaxis": {
            "backgroundcolor": "white",
            "gridcolor": "#DFE8F3",
            "gridwidth": 2,
            "linecolor": "#EBF0F8",
            "showbackground": true,
            "ticks": "",
            "zerolinecolor": "#EBF0F8"
           },
           "zaxis": {
            "backgroundcolor": "white",
            "gridcolor": "#DFE8F3",
            "gridwidth": 2,
            "linecolor": "#EBF0F8",
            "showbackground": true,
            "ticks": "",
            "zerolinecolor": "#EBF0F8"
           }
          },
          "shapedefaults": {
           "line": {
            "color": "#2a3f5f"
           }
          },
          "ternary": {
           "aaxis": {
            "gridcolor": "#DFE8F3",
            "linecolor": "#A2B1C6",
            "ticks": ""
           },
           "baxis": {
            "gridcolor": "#DFE8F3",
            "linecolor": "#A2B1C6",
            "ticks": ""
           },
           "bgcolor": "white",
           "caxis": {
            "gridcolor": "#DFE8F3",
            "linecolor": "#A2B1C6",
            "ticks": ""
           }
          },
          "title": {
           "x": 0.05
          },
          "xaxis": {
           "automargin": true,
           "gridcolor": "#EBF0F8",
           "linecolor": "#EBF0F8",
           "ticks": "",
           "title": {
            "standoff": 15
           },
           "zerolinecolor": "#EBF0F8",
           "zerolinewidth": 2
          },
          "yaxis": {
           "automargin": true,
           "gridcolor": "#EBF0F8",
           "linecolor": "#EBF0F8",
           "ticks": "",
           "title": {
            "standoff": 15
           },
           "zerolinecolor": "#EBF0F8",
           "zerolinewidth": 2
          }
         }
        },
        "title": {
         "text": "Comparison of Actual vs. Imputed Values using QRF"
        },
        "width": 750,
        "xaxis": {
         "anchor": "y",
         "domain": [
          0,
          1
         ],
         "title": {
          "text": "Actual Values"
         }
        },
        "yaxis": {
         "anchor": "x",
         "domain": [
          0,
          1
         ],
         "title": {
          "text": "Imputed Values"
         }
        }
       }
      }
     },
     "metadata": {},
     "output_type": "display_data"
    }
   ],
   "source": [
    "# Define your quantiles\n",
    "quantiles = list(imputed_values.keys())\n",
    "\n",
    "# Convert imputed_values dict to a 3D array: (n_samples, n_quantiles)\n",
    "pred_matrix = np.stack(\n",
    "    [imputed_values[q].values.flatten() for q in quantiles], axis=1\n",
    ")\n",
    "\n",
    "# Actual values flattened\n",
    "actual = actual_values.values.flatten()\n",
    "\n",
    "# Compute absolute error matrix: shape (n_samples, n_quantiles)\n",
    "abs_error = np.abs(pred_matrix - actual[:, None])\n",
    "\n",
    "# Find index of closest prediction for each sample\n",
    "closest_indices = abs_error.argmin(axis=1)\n",
    "\n",
    "# Select the closest predictions\n",
    "closest_predictions = np.array(\n",
    "    [pred_matrix[i, idx] for i, idx in enumerate(closest_indices)]\n",
    ")\n",
    "\n",
    "# Wrap as DataFrame for plotting\n",
    "closest_df = pd.DataFrame(\n",
    "    {\n",
    "        \"Actual\": actual,\n",
    "        \"ClosestPrediction\": closest_predictions,\n",
    "    }\n",
    ")\n",
    "\n",
    "# Extract median predictions for evaluation\n",
    "median_predictions = imputed_values[0.5]\n",
    "\n",
    "# Create a scatter plot comparing actual vs. imputed values\n",
    "min_val = min(actual_values.min().min(), median_predictions.min().min())\n",
    "max_val = max(actual_values.max().max(), median_predictions.max().max())\n",
    "\n",
    "# Create the scatter plot\n",
    "fig = px.scatter(\n",
    "    closest_df,\n",
    "    x=\"Actual\",\n",
    "    y=\"ClosestPrediction\",\n",
    "    opacity=0.7,\n",
    "    title=\"Comparison of Actual vs. Imputed Values using QRF\",\n",
    ")\n",
    "\n",
    "# Add the diagonal line (perfect prediction line)\n",
    "fig.add_trace(\n",
    "    go.Scatter(\n",
    "        x=[min_val, max_val],\n",
    "        y=[min_val, max_val],\n",
    "        mode=\"lines\",\n",
    "        line=dict(color=\"red\", dash=\"dash\"),\n",
    "        name=\"Perfect Prediction\",\n",
    "    )\n",
    ")\n",
    "\n",
    "# Update layout\n",
    "fig.update_layout(\n",
    "    xaxis_title=\"Actual Values\",\n",
    "    yaxis_title=\"Imputed Values\",\n",
    "    width=750,\n",
    "    height=600,\n",
    "    template=\"plotly_white\",\n",
    "    margin=dict(l=50, r=50, t=80, b=50),  # Adjust margins\n",
    ")\n",
    "\n",
    "fig.show()"
   ]
  },
  {
   "cell_type": "markdown",
   "metadata": {},
   "source": [
    "This scatter plot compares actual observed values with those imputed by a Quantile Regression Forest (QRF) model, providing a visual assessment of imputation accuracy. Each point represents a data record, with the x-axis showing the true value and the y-axis showing the model’s predicted value. The red dashed line represents the ideal 1:1 relationship, where predictions perfectly match actual values. Most points cluster around this line, suggesting that the QRF model effectively captures the underlying structure of the data. Importantly, the model does not appear to systematically over- or under-predict across the range, and while performance at the extremes may be weaker, the overall pattern indicates that QRF provides a reasonably accurate and unbiased approach to imputing missing values. Additionally, it is important to consider the characteristics of the diabetes dataset, which seems to show a strong linear relationship between predictors and the imputed variable. QRF's behavior suggests strength in accurately imputing variables for datasets when such linearity assumptions do not hold."
   ]
  },
  {
   "cell_type": "markdown",
   "metadata": {},
   "source": [
    "## Examining quantile predictions\n",
    "\n",
    "QRF provides predictions at different quantiles, allowing us to capture the entire conditional distribution of the missing values."
   ]
  },
  {
   "cell_type": "code",
   "execution_count": 11,
   "metadata": {},
   "outputs": [
    {
     "data": {
      "text/html": [
       "<div>\n",
       "<style scoped>\n",
       "    .dataframe tbody tr th:only-of-type {\n",
       "        vertical-align: middle;\n",
       "    }\n",
       "\n",
       "    .dataframe tbody tr th {\n",
       "        vertical-align: top;\n",
       "    }\n",
       "\n",
       "    .dataframe thead th {\n",
       "        text-align: right;\n",
       "    }\n",
       "</style>\n",
       "<table border=\"1\" class=\"dataframe\">\n",
       "  <thead>\n",
       "    <tr style=\"text-align: right;\">\n",
       "      <th></th>\n",
       "      <th>Actual</th>\n",
       "      <th>Q5</th>\n",
       "      <th>Q10</th>\n",
       "      <th>Q15</th>\n",
       "      <th>Q20</th>\n",
       "      <th>...</th>\n",
       "      <th>Q75</th>\n",
       "      <th>Q80</th>\n",
       "      <th>Q85</th>\n",
       "      <th>Q90</th>\n",
       "      <th>Q95</th>\n",
       "    </tr>\n",
       "  </thead>\n",
       "  <tbody>\n",
       "    <tr>\n",
       "      <th>0</th>\n",
       "      <td>0.125019</td>\n",
       "      <td>-0.046975</td>\n",
       "      <td>-0.041472</td>\n",
       "      <td>-0.005697</td>\n",
       "      <td>0.008063</td>\n",
       "      <td>...</td>\n",
       "      <td>0.020446</td>\n",
       "      <td>0.030078</td>\n",
       "      <td>0.042462</td>\n",
       "      <td>0.063101</td>\n",
       "      <td>0.063101</td>\n",
       "    </tr>\n",
       "    <tr>\n",
       "      <th>1</th>\n",
       "      <td>-0.024960</td>\n",
       "      <td>-0.027712</td>\n",
       "      <td>0.008063</td>\n",
       "      <td>-0.027712</td>\n",
       "      <td>-0.027712</td>\n",
       "      <td>...</td>\n",
       "      <td>0.043837</td>\n",
       "      <td>0.043837</td>\n",
       "      <td>0.052093</td>\n",
       "      <td>0.052093</td>\n",
       "      <td>0.063101</td>\n",
       "    </tr>\n",
       "    <tr>\n",
       "      <th>2</th>\n",
       "      <td>0.103003</td>\n",
       "      <td>-0.041472</td>\n",
       "      <td>-0.041472</td>\n",
       "      <td>-0.008449</td>\n",
       "      <td>-0.041472</td>\n",
       "      <td>...</td>\n",
       "      <td>0.087868</td>\n",
       "      <td>0.087868</td>\n",
       "      <td>0.087868</td>\n",
       "      <td>0.087868</td>\n",
       "      <td>0.087868</td>\n",
       "    </tr>\n",
       "    <tr>\n",
       "      <th>3</th>\n",
       "      <td>0.054845</td>\n",
       "      <td>-0.018080</td>\n",
       "      <td>-0.018080</td>\n",
       "      <td>-0.018080</td>\n",
       "      <td>-0.018080</td>\n",
       "      <td>...</td>\n",
       "      <td>0.034206</td>\n",
       "      <td>0.035582</td>\n",
       "      <td>0.046589</td>\n",
       "      <td>0.057597</td>\n",
       "      <td>0.060349</td>\n",
       "    </tr>\n",
       "    <tr>\n",
       "      <th>4</th>\n",
       "      <td>0.038334</td>\n",
       "      <td>-0.046975</td>\n",
       "      <td>-0.046975</td>\n",
       "      <td>-0.046975</td>\n",
       "      <td>-0.037344</td>\n",
       "      <td>...</td>\n",
       "      <td>0.001183</td>\n",
       "      <td>0.003935</td>\n",
       "      <td>0.013567</td>\n",
       "      <td>0.013567</td>\n",
       "      <td>0.031454</td>\n",
       "    </tr>\n",
       "  </tbody>\n",
       "</table>\n",
       "<p>5 rows × 20 columns</p>\n",
       "</div>"
      ],
      "text/plain": [
       "     Actual        Q5       Q10       Q15       Q20  ...       Q75       Q80       Q85       Q90       Q95\n",
       "0  0.125019 -0.046975 -0.041472 -0.005697  0.008063  ...  0.020446  0.030078  0.042462  0.063101  0.063101\n",
       "1 -0.024960 -0.027712  0.008063 -0.027712 -0.027712  ...  0.043837  0.043837  0.052093  0.052093  0.063101\n",
       "2  0.103003 -0.041472 -0.041472 -0.008449 -0.041472  ...  0.087868  0.087868  0.087868  0.087868  0.087868\n",
       "3  0.054845 -0.018080 -0.018080 -0.018080 -0.018080  ...  0.034206  0.035582  0.046589  0.057597  0.060349\n",
       "4  0.038334 -0.046975 -0.046975 -0.046975 -0.037344  ...  0.001183  0.003935  0.013567  0.013567  0.031454\n",
       "\n",
       "[5 rows x 20 columns]"
      ]
     },
     "execution_count": 11,
     "metadata": {},
     "output_type": "execute_result"
    }
   ],
   "source": [
    "# Compare predictions at different quantiles for the first 5 records\n",
    "quantiles_to_show = QUANTILES\n",
    "comparison_df = pd.DataFrame(index=range(5))\n",
    "\n",
    "# Add actual values\n",
    "comparison_df[\"Actual\"] = actual_values.iloc[:5, 0].values\n",
    "\n",
    "# Add quantile predictions\n",
    "for q in quantiles_to_show:\n",
    "    comparison_df[f\"Q{int(q*100)}\"] = imputed_values[q].iloc[:5, 0].values\n",
    "\n",
    "comparison_df"
   ]
  },
  {
   "cell_type": "markdown",
   "metadata": {},
   "source": [
    "## Visualizing prediction intervals\n",
    "\n",
    "By visualizing the prediction intervals of the model's imputations we can better understand the uncertainty in our imputed values."
   ]
  },
  {
   "cell_type": "code",
   "execution_count": 12,
   "metadata": {},
   "outputs": [
    {
     "data": {
      "application/vnd.plotly.v1+json": {
       "config": {
        "plotlyServerURL": "https://plot.ly"
       },
       "data": [
        {
         "hoverinfo": "none",
         "line": {
          "color": "rgba(173, 216, 230, 0.3)",
          "width": 10
         },
         "mode": "lines",
         "showlegend": false,
         "type": "scatter",
         "x": [
          0,
          0
         ],
         "y": [
          -0.04147159270804375,
          0.06310082451524143
         ]
        },
        {
         "hoverinfo": "none",
         "line": {
          "color": "rgba(173, 216, 230, 0.3)",
          "width": 10
         },
         "mode": "lines",
         "showlegend": false,
         "type": "scatter",
         "x": [
          1,
          1
         ],
         "y": [
          0.008062710187196594,
          0.05209320164963247
         ]
        },
        {
         "hoverinfo": "none",
         "line": {
          "color": "rgba(173, 216, 230, 0.3)",
          "width": 10
         },
         "mode": "lines",
         "showlegend": false,
         "type": "scatter",
         "x": [
          2,
          2
         ],
         "y": [
          -0.04147159270804375,
          0.08786797596286161
         ]
        },
        {
         "hoverinfo": "none",
         "line": {
          "color": "rgba(173, 216, 230, 0.3)",
          "width": 10
         },
         "mode": "lines",
         "showlegend": false,
         "type": "scatter",
         "x": [
          3,
          3
         ],
         "y": [
          -0.018080394118624697,
          0.05759701308243695
         ]
        },
        {
         "hoverinfo": "none",
         "line": {
          "color": "rgba(173, 216, 230, 0.3)",
          "width": 10
         },
         "mode": "lines",
         "showlegend": false,
         "type": "scatter",
         "x": [
          4,
          4
         ],
         "y": [
          -0.046975404140848234,
          0.013566521620001083
         ]
        },
        {
         "hoverinfo": "none",
         "line": {
          "color": "rgba(173, 216, 230, 0.3)",
          "width": 10
         },
         "mode": "lines",
         "showlegend": false,
         "type": "scatter",
         "x": [
          5,
          5
         ],
         "y": [
          -0.04972730985725048,
          0.04246153164222462
         ]
        },
        {
         "hoverinfo": "none",
         "line": {
          "color": "rgba(173, 216, 230, 0.3)",
          "width": 10
         },
         "mode": "lines",
         "showlegend": false,
         "type": "scatter",
         "x": [
          6,
          6
         ],
         "y": [
          -0.05385516843185383,
          0.06034891879883919
         ]
        },
        {
         "hoverinfo": "none",
         "line": {
          "color": "rgba(173, 216, 230, 0.3)",
          "width": 10
         },
         "mode": "lines",
         "showlegend": false,
         "type": "scatter",
         "x": [
          7,
          7
         ],
         "y": [
          -0.034591828417038145,
          0.03695772020942014
         ]
        },
        {
         "hoverinfo": "none",
         "line": {
          "color": "rgba(173, 216, 230, 0.3)",
          "width": 10
         },
         "mode": "lines",
         "showlegend": false,
         "type": "scatter",
         "x": [
          8,
          8
         ],
         "y": [
          -0.08962994274508297,
          -0.0249601584096303
         ]
        },
        {
         "hoverinfo": "none",
         "line": {
          "color": "rgba(173, 216, 230, 0.3)",
          "width": 10
         },
         "mode": "lines",
         "showlegend": false,
         "type": "scatter",
         "x": [
          9,
          9
         ],
         "y": [
          -0.012576582685820214,
          0.041085578784023497
         ]
        },
        {
         "hoverinfo": "none",
         "line": {
          "color": "rgba(70, 130, 180, 0.5)",
          "width": 10
         },
         "mode": "lines",
         "showlegend": false,
         "type": "scatter",
         "x": [
          0,
          0
         ],
         "y": [
          0.020446285911006674,
          0.020446285911006674
         ]
        },
        {
         "hoverinfo": "none",
         "line": {
          "color": "rgba(70, 130, 180, 0.5)",
          "width": 10
         },
         "mode": "lines",
         "showlegend": false,
         "type": "scatter",
         "x": [
          1,
          1
         ],
         "y": [
          -0.027712064126032544,
          0.04383748450042574
         ]
        },
        {
         "hoverinfo": "none",
         "line": {
          "color": "rgba(70, 130, 180, 0.5)",
          "width": 10
         },
         "mode": "lines",
         "showlegend": false,
         "type": "scatter",
         "x": [
          2,
          2
         ],
         "y": [
          -0.04147159270804375,
          0.08786797596286161
         ]
        },
        {
         "hoverinfo": "none",
         "line": {
          "color": "rgba(70, 130, 180, 0.5)",
          "width": 10
         },
         "mode": "lines",
         "showlegend": false,
         "type": "scatter",
         "x": [
          3,
          3
         ],
         "y": [
          0.024574144485610048,
          0.030077955918414535
         ]
        },
        {
         "hoverinfo": "none",
         "line": {
          "color": "rgba(70, 130, 180, 0.5)",
          "width": 10
         },
         "mode": "lines",
         "showlegend": false,
         "type": "scatter",
         "x": [
          4,
          4
         ],
         "y": [
          0.003934851612593237,
          0.001182945896190995
         ]
        },
        {
         "hoverinfo": "none",
         "line": {
          "color": "rgba(70, 130, 180, 0.5)",
          "width": 10
         },
         "mode": "lines",
         "showlegend": false,
         "type": "scatter",
         "x": [
          5,
          5
         ],
         "y": [
          0.003934851612593217,
          0.020446285911006685
         ]
        },
        {
         "hoverinfo": "none",
         "line": {
          "color": "rgba(70, 130, 180, 0.5)",
          "width": 10
         },
         "mode": "lines",
         "showlegend": false,
         "type": "scatter",
         "x": [
          6,
          6
         ],
         "y": [
          0.020446285911006685,
          0.020446285911006685
         ]
        },
        {
         "hoverinfo": "none",
         "line": {
          "color": "rgba(70, 130, 180, 0.5)",
          "width": 10
         },
         "mode": "lines",
         "showlegend": false,
         "type": "scatter",
         "x": [
          7,
          7
         ],
         "y": [
          0.02182223876920781,
          -0.005696818394814609
         ]
        },
        {
         "hoverinfo": "none",
         "line": {
          "color": "rgba(70, 130, 180, 0.5)",
          "width": 10
         },
         "mode": "lines",
         "showlegend": false,
         "type": "scatter",
         "x": [
          8,
          8
         ],
         "y": [
          -0.08962994274508297,
          -0.04559945128264711
         ]
        },
        {
         "hoverinfo": "none",
         "line": {
          "color": "rgba(70, 130, 180, 0.5)",
          "width": 10
         },
         "mode": "lines",
         "showlegend": false,
         "type": "scatter",
         "x": [
          9,
          9
         ],
         "y": [
          -0.02083229983502694,
          0.03695772020942014
         ]
        },
        {
         "marker": {
          "color": "black",
          "size": 8
         },
         "mode": "markers",
         "name": "Actual",
         "type": "scatter",
         "x": [
          0,
          1,
          2,
          3,
          4,
          5,
          6,
          7,
          8,
          9
         ],
         "y": [
          0.12501870313429186,
          -0.0249601584096303,
          0.10300345740307394,
          0.05484510736603471,
          0.03833367306762126,
          0.09887559882847057,
          0.030077955918414535,
          0.10988322169407955,
          -0.0249601584096303,
          0.03695772020942014
         ]
        },
        {
         "marker": {
          "color": "red",
          "size": 8
         },
         "mode": "markers",
         "name": "Median (Q50)",
         "type": "scatter",
         "x": [
          0,
          1,
          2,
          3,
          4,
          5,
          6,
          7,
          8,
          9
         ],
         "y": [
          -0.015328488402222479,
          0.039709625925822375,
          0.06998058880624704,
          0.04658939021682799,
          0.03145390877661565,
          -0.046975404140848234,
          -0.005696818394814609,
          0.02182223876920781,
          -0.07449446130487065,
          -0.012576582685820214
         ]
        },
        {
         "line": {
          "color": "rgba(173, 216, 230, 0.3)",
          "width": 10
         },
         "mode": "lines",
         "name": "80% PI (Q10-Q90)",
         "type": "scatter",
         "x": [
          -1,
          -1
         ],
         "y": [
          0,
          0
         ]
        },
        {
         "line": {
          "color": "rgba(70, 130, 180, 0.5)",
          "width": 10
         },
         "mode": "lines",
         "name": "40% PI (Q30-Q70)",
         "type": "scatter",
         "x": [
          -1,
          -1
         ],
         "y": [
          0,
          0
         ]
        }
       ],
       "layout": {
        "height": 600,
        "legend": {
         "x": 0.99,
         "xanchor": "right",
         "y": 0.99,
         "yanchor": "top"
        },
        "margin": {
         "b": 50,
         "l": 50,
         "r": 50,
         "t": 80
        },
        "template": {
         "data": {
          "bar": [
           {
            "error_x": {
             "color": "#2a3f5f"
            },
            "error_y": {
             "color": "#2a3f5f"
            },
            "marker": {
             "line": {
              "color": "white",
              "width": 0.5
             },
             "pattern": {
              "fillmode": "overlay",
              "size": 10,
              "solidity": 0.2
             }
            },
            "type": "bar"
           }
          ],
          "barpolar": [
           {
            "marker": {
             "line": {
              "color": "white",
              "width": 0.5
             },
             "pattern": {
              "fillmode": "overlay",
              "size": 10,
              "solidity": 0.2
             }
            },
            "type": "barpolar"
           }
          ],
          "carpet": [
           {
            "aaxis": {
             "endlinecolor": "#2a3f5f",
             "gridcolor": "#C8D4E3",
             "linecolor": "#C8D4E3",
             "minorgridcolor": "#C8D4E3",
             "startlinecolor": "#2a3f5f"
            },
            "baxis": {
             "endlinecolor": "#2a3f5f",
             "gridcolor": "#C8D4E3",
             "linecolor": "#C8D4E3",
             "minorgridcolor": "#C8D4E3",
             "startlinecolor": "#2a3f5f"
            },
            "type": "carpet"
           }
          ],
          "choropleth": [
           {
            "colorbar": {
             "outlinewidth": 0,
             "ticks": ""
            },
            "type": "choropleth"
           }
          ],
          "contour": [
           {
            "colorbar": {
             "outlinewidth": 0,
             "ticks": ""
            },
            "colorscale": [
             [
              0,
              "#0d0887"
             ],
             [
              0.1111111111111111,
              "#46039f"
             ],
             [
              0.2222222222222222,
              "#7201a8"
             ],
             [
              0.3333333333333333,
              "#9c179e"
             ],
             [
              0.4444444444444444,
              "#bd3786"
             ],
             [
              0.5555555555555556,
              "#d8576b"
             ],
             [
              0.6666666666666666,
              "#ed7953"
             ],
             [
              0.7777777777777778,
              "#fb9f3a"
             ],
             [
              0.8888888888888888,
              "#fdca26"
             ],
             [
              1,
              "#f0f921"
             ]
            ],
            "type": "contour"
           }
          ],
          "contourcarpet": [
           {
            "colorbar": {
             "outlinewidth": 0,
             "ticks": ""
            },
            "type": "contourcarpet"
           }
          ],
          "heatmap": [
           {
            "colorbar": {
             "outlinewidth": 0,
             "ticks": ""
            },
            "colorscale": [
             [
              0,
              "#0d0887"
             ],
             [
              0.1111111111111111,
              "#46039f"
             ],
             [
              0.2222222222222222,
              "#7201a8"
             ],
             [
              0.3333333333333333,
              "#9c179e"
             ],
             [
              0.4444444444444444,
              "#bd3786"
             ],
             [
              0.5555555555555556,
              "#d8576b"
             ],
             [
              0.6666666666666666,
              "#ed7953"
             ],
             [
              0.7777777777777778,
              "#fb9f3a"
             ],
             [
              0.8888888888888888,
              "#fdca26"
             ],
             [
              1,
              "#f0f921"
             ]
            ],
            "type": "heatmap"
           }
          ],
          "heatmapgl": [
           {
            "colorbar": {
             "outlinewidth": 0,
             "ticks": ""
            },
            "colorscale": [
             [
              0,
              "#0d0887"
             ],
             [
              0.1111111111111111,
              "#46039f"
             ],
             [
              0.2222222222222222,
              "#7201a8"
             ],
             [
              0.3333333333333333,
              "#9c179e"
             ],
             [
              0.4444444444444444,
              "#bd3786"
             ],
             [
              0.5555555555555556,
              "#d8576b"
             ],
             [
              0.6666666666666666,
              "#ed7953"
             ],
             [
              0.7777777777777778,
              "#fb9f3a"
             ],
             [
              0.8888888888888888,
              "#fdca26"
             ],
             [
              1,
              "#f0f921"
             ]
            ],
            "type": "heatmapgl"
           }
          ],
          "histogram": [
           {
            "marker": {
             "pattern": {
              "fillmode": "overlay",
              "size": 10,
              "solidity": 0.2
             }
            },
            "type": "histogram"
           }
          ],
          "histogram2d": [
           {
            "colorbar": {
             "outlinewidth": 0,
             "ticks": ""
            },
            "colorscale": [
             [
              0,
              "#0d0887"
             ],
             [
              0.1111111111111111,
              "#46039f"
             ],
             [
              0.2222222222222222,
              "#7201a8"
             ],
             [
              0.3333333333333333,
              "#9c179e"
             ],
             [
              0.4444444444444444,
              "#bd3786"
             ],
             [
              0.5555555555555556,
              "#d8576b"
             ],
             [
              0.6666666666666666,
              "#ed7953"
             ],
             [
              0.7777777777777778,
              "#fb9f3a"
             ],
             [
              0.8888888888888888,
              "#fdca26"
             ],
             [
              1,
              "#f0f921"
             ]
            ],
            "type": "histogram2d"
           }
          ],
          "histogram2dcontour": [
           {
            "colorbar": {
             "outlinewidth": 0,
             "ticks": ""
            },
            "colorscale": [
             [
              0,
              "#0d0887"
             ],
             [
              0.1111111111111111,
              "#46039f"
             ],
             [
              0.2222222222222222,
              "#7201a8"
             ],
             [
              0.3333333333333333,
              "#9c179e"
             ],
             [
              0.4444444444444444,
              "#bd3786"
             ],
             [
              0.5555555555555556,
              "#d8576b"
             ],
             [
              0.6666666666666666,
              "#ed7953"
             ],
             [
              0.7777777777777778,
              "#fb9f3a"
             ],
             [
              0.8888888888888888,
              "#fdca26"
             ],
             [
              1,
              "#f0f921"
             ]
            ],
            "type": "histogram2dcontour"
           }
          ],
          "mesh3d": [
           {
            "colorbar": {
             "outlinewidth": 0,
             "ticks": ""
            },
            "type": "mesh3d"
           }
          ],
          "parcoords": [
           {
            "line": {
             "colorbar": {
              "outlinewidth": 0,
              "ticks": ""
             }
            },
            "type": "parcoords"
           }
          ],
          "pie": [
           {
            "automargin": true,
            "type": "pie"
           }
          ],
          "scatter": [
           {
            "fillpattern": {
             "fillmode": "overlay",
             "size": 10,
             "solidity": 0.2
            },
            "type": "scatter"
           }
          ],
          "scatter3d": [
           {
            "line": {
             "colorbar": {
              "outlinewidth": 0,
              "ticks": ""
             }
            },
            "marker": {
             "colorbar": {
              "outlinewidth": 0,
              "ticks": ""
             }
            },
            "type": "scatter3d"
           }
          ],
          "scattercarpet": [
           {
            "marker": {
             "colorbar": {
              "outlinewidth": 0,
              "ticks": ""
             }
            },
            "type": "scattercarpet"
           }
          ],
          "scattergeo": [
           {
            "marker": {
             "colorbar": {
              "outlinewidth": 0,
              "ticks": ""
             }
            },
            "type": "scattergeo"
           }
          ],
          "scattergl": [
           {
            "marker": {
             "colorbar": {
              "outlinewidth": 0,
              "ticks": ""
             }
            },
            "type": "scattergl"
           }
          ],
          "scattermapbox": [
           {
            "marker": {
             "colorbar": {
              "outlinewidth": 0,
              "ticks": ""
             }
            },
            "type": "scattermapbox"
           }
          ],
          "scatterpolar": [
           {
            "marker": {
             "colorbar": {
              "outlinewidth": 0,
              "ticks": ""
             }
            },
            "type": "scatterpolar"
           }
          ],
          "scatterpolargl": [
           {
            "marker": {
             "colorbar": {
              "outlinewidth": 0,
              "ticks": ""
             }
            },
            "type": "scatterpolargl"
           }
          ],
          "scatterternary": [
           {
            "marker": {
             "colorbar": {
              "outlinewidth": 0,
              "ticks": ""
             }
            },
            "type": "scatterternary"
           }
          ],
          "surface": [
           {
            "colorbar": {
             "outlinewidth": 0,
             "ticks": ""
            },
            "colorscale": [
             [
              0,
              "#0d0887"
             ],
             [
              0.1111111111111111,
              "#46039f"
             ],
             [
              0.2222222222222222,
              "#7201a8"
             ],
             [
              0.3333333333333333,
              "#9c179e"
             ],
             [
              0.4444444444444444,
              "#bd3786"
             ],
             [
              0.5555555555555556,
              "#d8576b"
             ],
             [
              0.6666666666666666,
              "#ed7953"
             ],
             [
              0.7777777777777778,
              "#fb9f3a"
             ],
             [
              0.8888888888888888,
              "#fdca26"
             ],
             [
              1,
              "#f0f921"
             ]
            ],
            "type": "surface"
           }
          ],
          "table": [
           {
            "cells": {
             "fill": {
              "color": "#EBF0F8"
             },
             "line": {
              "color": "white"
             }
            },
            "header": {
             "fill": {
              "color": "#C8D4E3"
             },
             "line": {
              "color": "white"
             }
            },
            "type": "table"
           }
          ]
         },
         "layout": {
          "annotationdefaults": {
           "arrowcolor": "#2a3f5f",
           "arrowhead": 0,
           "arrowwidth": 1
          },
          "autotypenumbers": "strict",
          "coloraxis": {
           "colorbar": {
            "outlinewidth": 0,
            "ticks": ""
           }
          },
          "colorscale": {
           "diverging": [
            [
             0,
             "#8e0152"
            ],
            [
             0.1,
             "#c51b7d"
            ],
            [
             0.2,
             "#de77ae"
            ],
            [
             0.3,
             "#f1b6da"
            ],
            [
             0.4,
             "#fde0ef"
            ],
            [
             0.5,
             "#f7f7f7"
            ],
            [
             0.6,
             "#e6f5d0"
            ],
            [
             0.7,
             "#b8e186"
            ],
            [
             0.8,
             "#7fbc41"
            ],
            [
             0.9,
             "#4d9221"
            ],
            [
             1,
             "#276419"
            ]
           ],
           "sequential": [
            [
             0,
             "#0d0887"
            ],
            [
             0.1111111111111111,
             "#46039f"
            ],
            [
             0.2222222222222222,
             "#7201a8"
            ],
            [
             0.3333333333333333,
             "#9c179e"
            ],
            [
             0.4444444444444444,
             "#bd3786"
            ],
            [
             0.5555555555555556,
             "#d8576b"
            ],
            [
             0.6666666666666666,
             "#ed7953"
            ],
            [
             0.7777777777777778,
             "#fb9f3a"
            ],
            [
             0.8888888888888888,
             "#fdca26"
            ],
            [
             1,
             "#f0f921"
            ]
           ],
           "sequentialminus": [
            [
             0,
             "#0d0887"
            ],
            [
             0.1111111111111111,
             "#46039f"
            ],
            [
             0.2222222222222222,
             "#7201a8"
            ],
            [
             0.3333333333333333,
             "#9c179e"
            ],
            [
             0.4444444444444444,
             "#bd3786"
            ],
            [
             0.5555555555555556,
             "#d8576b"
            ],
            [
             0.6666666666666666,
             "#ed7953"
            ],
            [
             0.7777777777777778,
             "#fb9f3a"
            ],
            [
             0.8888888888888888,
             "#fdca26"
            ],
            [
             1,
             "#f0f921"
            ]
           ]
          },
          "colorway": [
           "#636efa",
           "#EF553B",
           "#00cc96",
           "#ab63fa",
           "#FFA15A",
           "#19d3f3",
           "#FF6692",
           "#B6E880",
           "#FF97FF",
           "#FECB52"
          ],
          "font": {
           "color": "#2a3f5f"
          },
          "geo": {
           "bgcolor": "white",
           "lakecolor": "white",
           "landcolor": "white",
           "showlakes": true,
           "showland": true,
           "subunitcolor": "#C8D4E3"
          },
          "hoverlabel": {
           "align": "left"
          },
          "hovermode": "closest",
          "mapbox": {
           "style": "light"
          },
          "paper_bgcolor": "white",
          "plot_bgcolor": "white",
          "polar": {
           "angularaxis": {
            "gridcolor": "#EBF0F8",
            "linecolor": "#EBF0F8",
            "ticks": ""
           },
           "bgcolor": "white",
           "radialaxis": {
            "gridcolor": "#EBF0F8",
            "linecolor": "#EBF0F8",
            "ticks": ""
           }
          },
          "scene": {
           "xaxis": {
            "backgroundcolor": "white",
            "gridcolor": "#DFE8F3",
            "gridwidth": 2,
            "linecolor": "#EBF0F8",
            "showbackground": true,
            "ticks": "",
            "zerolinecolor": "#EBF0F8"
           },
           "yaxis": {
            "backgroundcolor": "white",
            "gridcolor": "#DFE8F3",
            "gridwidth": 2,
            "linecolor": "#EBF0F8",
            "showbackground": true,
            "ticks": "",
            "zerolinecolor": "#EBF0F8"
           },
           "zaxis": {
            "backgroundcolor": "white",
            "gridcolor": "#DFE8F3",
            "gridwidth": 2,
            "linecolor": "#EBF0F8",
            "showbackground": true,
            "ticks": "",
            "zerolinecolor": "#EBF0F8"
           }
          },
          "shapedefaults": {
           "line": {
            "color": "#2a3f5f"
           }
          },
          "ternary": {
           "aaxis": {
            "gridcolor": "#DFE8F3",
            "linecolor": "#A2B1C6",
            "ticks": ""
           },
           "baxis": {
            "gridcolor": "#DFE8F3",
            "linecolor": "#A2B1C6",
            "ticks": ""
           },
           "bgcolor": "white",
           "caxis": {
            "gridcolor": "#DFE8F3",
            "linecolor": "#A2B1C6",
            "ticks": ""
           }
          },
          "title": {
           "x": 0.05
          },
          "xaxis": {
           "automargin": true,
           "gridcolor": "#EBF0F8",
           "linecolor": "#EBF0F8",
           "ticks": "",
           "title": {
            "standoff": 15
           },
           "zerolinecolor": "#EBF0F8",
           "zerolinewidth": 2
          },
          "yaxis": {
           "automargin": true,
           "gridcolor": "#EBF0F8",
           "linecolor": "#EBF0F8",
           "ticks": "",
           "title": {
            "standoff": 15
           },
           "zerolinecolor": "#EBF0F8",
           "zerolinewidth": 2
          }
         }
        },
        "title": {
         "text": "QRF Imputation Prediction Intervals"
        },
        "width": 750,
        "xaxis": {
         "gridcolor": "rgba(211, 211, 211, 0.7)",
         "gridwidth": 1,
         "showgrid": true,
         "title": {
          "text": "Data Record Index"
         }
        },
        "yaxis": {
         "gridcolor": "rgba(211, 211, 211, 0.7)",
         "gridwidth": 1,
         "showgrid": true,
         "title": {
          "text": "Total Serum Cholesterol (s1)"
         }
        }
       }
      }
     },
     "metadata": {},
     "output_type": "display_data"
    }
   ],
   "source": [
    "# Create a prediction interval plot for the first 10 records\n",
    "# Number of records to plot\n",
    "n_records = 10\n",
    "\n",
    "# Prepare data for plotting\n",
    "records = list(range(n_records))\n",
    "actuals = actual_values.iloc[:n_records, 0].values\n",
    "medians = imputed_values[0.5].iloc[:n_records, 0].values\n",
    "q30 = imputed_values[0.3].iloc[:n_records, 0].values\n",
    "q70 = imputed_values[0.7].iloc[:n_records, 0].values\n",
    "q10 = imputed_values[0.1].iloc[:n_records, 0].values\n",
    "q90 = imputed_values[0.9].iloc[:n_records, 0].values\n",
    "\n",
    "# Create the base figure\n",
    "fig = go.Figure()\n",
    "\n",
    "# Add 80% prediction interval (Q10-Q90)\n",
    "for i in range(n_records):\n",
    "    fig.add_trace(\n",
    "        go.Scatter(\n",
    "            x=[i, i],\n",
    "            y=[q10[i], q90[i]],\n",
    "            mode=\"lines\",\n",
    "            line=dict(width=10, color=\"rgba(173, 216, 230, 0.3)\"),\n",
    "            hoverinfo=\"none\",\n",
    "            showlegend=False,\n",
    "        )\n",
    "    )\n",
    "\n",
    "# Add 40% prediction interval (Q30-Q70)\n",
    "for i in range(n_records):\n",
    "    fig.add_trace(\n",
    "        go.Scatter(\n",
    "            x=[i, i],\n",
    "            y=[q30[i], q70[i]],\n",
    "            mode=\"lines\",\n",
    "            line=dict(width=10, color=\"rgba(70, 130, 180, 0.5)\"),\n",
    "            hoverinfo=\"none\",\n",
    "            showlegend=False,\n",
    "        )\n",
    "    )\n",
    "\n",
    "# Add actual values\n",
    "fig.add_trace(\n",
    "    go.Scatter(\n",
    "        x=records,\n",
    "        y=actuals,\n",
    "        mode=\"markers\",\n",
    "        marker=dict(color=\"black\", size=8),\n",
    "        name=\"Actual\",\n",
    "    )\n",
    ")\n",
    "\n",
    "# Add median predictions\n",
    "fig.add_trace(\n",
    "    go.Scatter(\n",
    "        x=records,\n",
    "        y=medians,\n",
    "        mode=\"markers\",\n",
    "        marker=dict(color=\"red\", size=8),\n",
    "        name=\"Median (Q50)\",\n",
    "    )\n",
    ")\n",
    "\n",
    "# Add dashed line for Q10\n",
    "fig.add_trace(\n",
    "    go.Scatter(\n",
    "        x=[-1, -1],  # Dummy points for legend\n",
    "        y=[0, 0],  # Dummy points for legend\n",
    "        mode=\"lines\",\n",
    "        line=dict(color=\"rgba(173, 216, 230, 0.3)\", width=10),\n",
    "        name=\"80% PI (Q10-Q90)\",\n",
    "    )\n",
    ")\n",
    "\n",
    "# Add dashed line for Q30\n",
    "fig.add_trace(\n",
    "    go.Scatter(\n",
    "        x=[-1, -1],  # Dummy points for legend\n",
    "        y=[0, 0],  # Dummy points for legend\n",
    "        mode=\"lines\",\n",
    "        line=dict(color=\"rgba(70, 130, 180, 0.5)\", width=10),\n",
    "        name=\"40% PI (Q30-Q70)\",\n",
    "    )\n",
    ")\n",
    "\n",
    "# Update layout with smaller width to fit in the book layout\n",
    "fig.update_layout(\n",
    "    title=\"QRF Imputation Prediction Intervals\",\n",
    "    xaxis=dict(\n",
    "        title=\"Data Record Index\",\n",
    "        showgrid=True,\n",
    "        gridwidth=1,\n",
    "        gridcolor=\"rgba(211, 211, 211, 0.7)\",\n",
    "    ),\n",
    "    yaxis=dict(\n",
    "        title=\"Total Serum Cholesterol (s1)\",\n",
    "        showgrid=True,\n",
    "        gridwidth=1,\n",
    "        gridcolor=\"rgba(211, 211, 211, 0.7)\",\n",
    "    ),\n",
    "    width=750,\n",
    "    height=600,\n",
    "    template=\"plotly_white\",\n",
    "    margin=dict(l=50, r=50, t=80, b=50),  # Adjust margins\n",
    "    legend=dict(yanchor=\"top\", y=0.99, xanchor=\"right\", x=0.99),\n",
    ")\n",
    "\n",
    "fig.show()"
   ]
  },
  {
   "cell_type": "markdown",
   "metadata": {},
   "source": [
    "This plot visualizes the prediction intervals produced by the Quantile Regression Forest (QRF) model for imputing total serum cholesterol values across ten data records. Each vertical bar represents an 80% (light blue) or 40% (dark blue) prediction interval, capturing the model's estimated range of plausible values based on the Q10–Q90 and Q30–Q70 quantiles, respectively. Red dots mark the model's median predictions (Q50), while black dots show the actual observed values. In most cases, the true values fall within the wider intervals, indicating that the QRF model is appropriately capturing uncertainty in its imputation. The fact that the intervals are sometimes asymmetrical around the median reflects the model’s flexibility in estimating skewed or heteroskedastic distributions. Overall, the plot demonstrates that the QRF model not only provides accurate point estimates but also yields informative prediction intervals that account for uncertainty in the imputed values."
   ]
  },
  {
   "cell_type": "markdown",
   "metadata": {},
   "source": [
    "## Assesing the method's performance\n",
    "\n",
    "To check whether our model is overfitting and ensure robust results we can perform cross-validation and visualize the results."
   ]
  },
  {
   "cell_type": "code",
   "execution_count": null,
   "metadata": {},
   "outputs": [
    {
     "name": "stderr",
     "output_type": "stream",
     "text": [
      "[Parallel(n_jobs=-1)]: Using backend LokyBackend with 8 concurrent workers.\n"
     ]
    },
    {
     "name": "stderr",
     "output_type": "stream",
     "text": [
      "/Users/movil1/envs/pe/lib/python3.11/site-packages/pydantic/_internal/_generate_schema.py:623: UserWarning: <built-in function array> is not a Python type (it may be an instance of an object), Pydantic will allow any object with no validation since we cannot even enforce that the input is an instance of the given type. To get rid of this error wrap the type with `pydantic.SkipValidation`.\n",
      "  warn(\n",
      "/Users/movil1/envs/pe/lib/python3.11/site-packages/pydantic/_internal/_generate_schema.py:623: UserWarning: <built-in function array> is not a Python type (it may be an instance of an object), Pydantic will allow any object with no validation since we cannot even enforce that the input is an instance of the given type. To get rid of this error wrap the type with `pydantic.SkipValidation`.\n",
      "  warn(\n",
      "/Users/movil1/envs/pe/lib/python3.11/site-packages/pydantic/_internal/_generate_schema.py:623: UserWarning: <built-in function array> is not a Python type (it may be an instance of an object), Pydantic will allow any object with no validation since we cannot even enforce that the input is an instance of the given type. To get rid of this error wrap the type with `pydantic.SkipValidation`.\n",
      "  warn(\n",
      "/Users/movil1/envs/pe/lib/python3.11/site-packages/pydantic/_internal/_generate_schema.py:623: UserWarning: <built-in function array> is not a Python type (it may be an instance of an object), Pydantic will allow any object with no validation since we cannot even enforce that the input is an instance of the given type. To get rid of this error wrap the type with `pydantic.SkipValidation`.\n",
      "  warn(\n",
      "/Users/movil1/envs/pe/lib/python3.11/site-packages/pydantic/_internal/_generate_schema.py:623: UserWarning: <built-in function array> is not a Python type (it may be an instance of an object), Pydantic will allow any object with no validation since we cannot even enforce that the input is an instance of the given type. To get rid of this error wrap the type with `pydantic.SkipValidation`.\n",
      "  warn(\n",
      "Error importing in API mode: ImportError(\"dlopen(/Users/movil1/envs/pe/lib/python3.11/site-packages/_rinterface_cffi_api.abi3.so, 0x0002): Library not loaded: /Library/Frameworks/R.framework/Versions/4.5-arm64/Resources/lib/libRblas.dylib\\n  Referenced from: <38886600-97A2-37BA-9F86-5263C9A3CF6D> /Users/movil1/envs/pe/lib/python3.11/site-packages/_rinterface_cffi_api.abi3.so\\n  Reason: tried: '/Library/Frameworks/R.framework/Versions/4.5-arm64/Resources/lib/libRblas.dylib' (no such file), '/System/Volumes/Preboot/Cryptexes/OS/Library/Frameworks/R.framework/Versions/4.5-arm64/Resources/lib/libRblas.dylib' (no such file), '/Library/Frameworks/R.framework/Versions/4.5-arm64/Resources/lib/libRblas.dylib' (no such file), '/opt/homebrew/Cellar/r/4.5.0/lib/R/lib/libRblas.dylib' (no such file)\")\n",
      "Error importing in API mode: ImportError(\"dlopen(/Users/movil1/envs/pe/lib/python3.11/site-packages/_rinterface_cffi_api.abi3.so, 0x0002): Library not loaded: /Library/Frameworks/R.framework/Versions/4.5-arm64/Resources/lib/libRblas.dylib\\n  Referenced from: <38886600-97A2-37BA-9F86-5263C9A3CF6D> /Users/movil1/envs/pe/lib/python3.11/site-packages/_rinterface_cffi_api.abi3.so\\n  Reason: tried: '/Library/Frameworks/R.framework/Versions/4.5-arm64/Resources/lib/libRblas.dylib' (no such file), '/System/Volumes/Preboot/Cryptexes/OS/Library/Frameworks/R.framework/Versions/4.5-arm64/Resources/lib/libRblas.dylib' (no such file), '/Library/Frameworks/R.framework/Versions/4.5-arm64/Resources/lib/libRblas.dylib' (no such file), '/opt/homebrew/Cellar/r/4.5.0/lib/R/lib/libRblas.dylib' (no such file)\")\n",
      "Error importing in API mode: ImportError(\"dlopen(/Users/movil1/envs/pe/lib/python3.11/site-packages/_rinterface_cffi_api.abi3.so, 0x0002): Library not loaded: /Library/Frameworks/R.framework/Versions/4.5-arm64/Resources/lib/libRblas.dylib\\n  Referenced from: <38886600-97A2-37BA-9F86-5263C9A3CF6D> /Users/movil1/envs/pe/lib/python3.11/site-packages/_rinterface_cffi_api.abi3.so\\n  Reason: tried: '/Library/Frameworks/R.framework/Versions/4.5-arm64/Resources/lib/libRblas.dylib' (no such file), '/System/Volumes/Preboot/Cryptexes/OS/Library/Frameworks/R.framework/Versions/4.5-arm64/Resources/lib/libRblas.dylib' (no such file), '/Library/Frameworks/R.framework/Versions/4.5-arm64/Resources/lib/libRblas.dylib' (no such file), '/opt/homebrew/Cellar/r/4.5.0/lib/R/lib/libRblas.dylib' (no such file)\")\n",
      "Error importing in API mode: ImportError(\"dlopen(/Users/movil1/envs/pe/lib/python3.11/site-packages/_rinterface_cffi_api.abi3.so, 0x0002): Library not loaded: /Library/Frameworks/R.framework/Versions/4.5-arm64/Resources/lib/libRblas.dylib\\n  Referenced from: <38886600-97A2-37BA-9F86-5263C9A3CF6D> /Users/movil1/envs/pe/lib/python3.11/site-packages/_rinterface_cffi_api.abi3.so\\n  Reason: tried: '/Library/Frameworks/R.framework/Versions/4.5-arm64/Resources/lib/libRblas.dylib' (no such file), '/System/Volumes/Preboot/Cryptexes/OS/Library/Frameworks/R.framework/Versions/4.5-arm64/Resources/lib/libRblas.dylib' (no such file), '/Library/Frameworks/R.framework/Versions/4.5-arm64/Resources/lib/libRblas.dylib' (no such file), '/opt/homebrew/Cellar/r/4.5.0/lib/R/lib/libRblas.dylib' (no such file)\")\n",
      "Error importing in API mode: ImportError(\"dlopen(/Users/movil1/envs/pe/lib/python3.11/site-packages/_rinterface_cffi_api.abi3.so, 0x0002): Library not loaded: /Library/Frameworks/R.framework/Versions/4.5-arm64/Resources/lib/libRblas.dylib\\n  Referenced from: <38886600-97A2-37BA-9F86-5263C9A3CF6D> /Users/movil1/envs/pe/lib/python3.11/site-packages/_rinterface_cffi_api.abi3.so\\n  Reason: tried: '/Library/Frameworks/R.framework/Versions/4.5-arm64/Resources/lib/libRblas.dylib' (no such file), '/System/Volumes/Preboot/Cryptexes/OS/Library/Frameworks/R.framework/Versions/4.5-arm64/Resources/lib/libRblas.dylib' (no such file), '/Library/Frameworks/R.framework/Versions/4.5-arm64/Resources/lib/libRblas.dylib' (no such file), '/opt/homebrew/Cellar/r/4.5.0/lib/R/lib/libRblas.dylib' (no such file)\")\n",
      "Trying to import in ABI mode.\n",
      "Trying to import in ABI mode.\n",
      "Trying to import in ABI mode.\n",
      "Trying to import in ABI mode.\n",
      "Trying to import in ABI mode.\n",
      "/Users/movil1/envs/pe/lib/python3.11/site-packages/rpy2/rinterface/__init__.py:1185: UserWarning: Environment variable \"R_SESSION_TMPDIR\" redefined by R and overriding existing variable. Current: \"/var/folders/yg/xdp70k_n4qj9ph1_0lm435c00000gp/T//RtmpmbCVKV\", R: \"/var/folders/yg/xdp70k_n4qj9ph1_0lm435c00000gp/T//RtmpbfEcaL\"\n",
      "  warnings.warn(\n",
      "/Users/movil1/envs/pe/lib/python3.11/site-packages/rpy2/rinterface/__init__.py:1185: UserWarning: Environment variable \"R_SESSION_TMPDIR\" redefined by R and overriding existing variable. Current: \"/var/folders/yg/xdp70k_n4qj9ph1_0lm435c00000gp/T//RtmpmbCVKV\", R: \"/var/folders/yg/xdp70k_n4qj9ph1_0lm435c00000gp/T//Rtmp9l2zm8\"\n",
      "  warnings.warn(\n",
      "/Users/movil1/envs/pe/lib/python3.11/site-packages/rpy2/rinterface/__init__.py:1185: UserWarning: Environment variable \"R_SESSION_TMPDIR\" redefined by R and overriding existing variable. Current: \"/var/folders/yg/xdp70k_n4qj9ph1_0lm435c00000gp/T//RtmpmbCVKV\", R: \"/var/folders/yg/xdp70k_n4qj9ph1_0lm435c00000gp/T//RtmplVykhu\"\n",
      "  warnings.warn(\n",
      "/Users/movil1/envs/pe/lib/python3.11/site-packages/rpy2/rinterface/__init__.py:1185: UserWarning: Environment variable \"R_SESSION_TMPDIR\" redefined by R and overriding existing variable. Current: \"/var/folders/yg/xdp70k_n4qj9ph1_0lm435c00000gp/T//RtmpmbCVKV\", R: \"/var/folders/yg/xdp70k_n4qj9ph1_0lm435c00000gp/T//RtmpHvLgiL\"\n",
      "  warnings.warn(\n",
      "/Users/movil1/envs/pe/lib/python3.11/site-packages/rpy2/rinterface/__init__.py:1185: UserWarning: Environment variable \"R_SESSION_TMPDIR\" redefined by R and overriding existing variable. Current: \"/var/folders/yg/xdp70k_n4qj9ph1_0lm435c00000gp/T//RtmpmbCVKV\", R: \"/var/folders/yg/xdp70k_n4qj9ph1_0lm435c00000gp/T//RtmpoVjszD\"\n",
      "  warnings.warn(\n",
      "/Users/movil1/envs/pe/lib/python3.11/site-packages/rpy2/rinterface/__init__.py:1185: UserWarning: Environment variable \"R_SESSION_TMPDIR\" redefined by R and overriding existing variable. Current: \"/var/folders/yg/xdp70k_n4qj9ph1_0lm435c00000gp/T//Rtmp9l2zm8\", R: \"/var/folders/yg/xdp70k_n4qj9ph1_0lm435c00000gp/T//Rtmp0TwodO\"\n",
      "  warnings.warn(\n",
      "/Users/movil1/envs/pe/lib/python3.11/site-packages/rpy2/rinterface/__init__.py:1185: UserWarning: Environment variable \"R_SESSION_TMPDIR\" redefined by R and overriding existing variable. Current: \"/var/folders/yg/xdp70k_n4qj9ph1_0lm435c00000gp/T//RtmplVykhu\", R: \"/var/folders/yg/xdp70k_n4qj9ph1_0lm435c00000gp/T//RtmpXRcYAd\"\n",
      "  warnings.warn(\n",
      "/Users/movil1/envs/pe/lib/python3.11/site-packages/rpy2/rinterface/__init__.py:1185: UserWarning: Environment variable \"R_SESSION_TMPDIR\" redefined by R and overriding existing variable. Current: \"/var/folders/yg/xdp70k_n4qj9ph1_0lm435c00000gp/T//RtmpoVjszD\", R: \"/var/folders/yg/xdp70k_n4qj9ph1_0lm435c00000gp/T//Rtmp4LHOhz\"\n",
      "  warnings.warn(\n",
      "/Users/movil1/envs/pe/lib/python3.11/site-packages/rpy2/rinterface/__init__.py:1185: UserWarning: Environment variable \"R_SESSION_TMPDIR\" redefined by R and overriding existing variable. Current: \"/var/folders/yg/xdp70k_n4qj9ph1_0lm435c00000gp/T//RtmpHvLgiL\", R: \"/var/folders/yg/xdp70k_n4qj9ph1_0lm435c00000gp/T//Rtmp8L7KRN\"\n",
      "  warnings.warn(\n",
      "/Users/movil1/envs/pe/lib/python3.11/site-packages/rpy2/rinterface/__init__.py:1185: UserWarning: Environment variable \"R_SESSION_TMPDIR\" redefined by R and overriding existing variable. Current: \"/var/folders/yg/xdp70k_n4qj9ph1_0lm435c00000gp/T//RtmpbfEcaL\", R: \"/var/folders/yg/xdp70k_n4qj9ph1_0lm435c00000gp/T//RtmpnOqxtg\"\n",
      "  warnings.warn(\n",
      "[Parallel(n_jobs=-1)]: Done   2 out of   5 | elapsed:    6.1s remaining:    9.2s\n",
      "[Parallel(n_jobs=-1)]: Done   3 out of   5 | elapsed:    6.1s remaining:    4.1s\n",
      "[Parallel(n_jobs=-1)]: Done   5 out of   5 | elapsed:    6.2s finished\n",
      "/Users/movil1/envs/pe/lib/python3.11/site-packages/pydantic/_internal/_generate_schema.py:623: UserWarning: <built-in function array> is not a Python type (it may be an instance of an object), Pydantic will allow any object with no validation since we cannot even enforce that the input is an instance of the given type. To get rid of this error wrap the type with `pydantic.SkipValidation`.\n",
      "  warn(\n",
      "/Users/movil1/envs/pe/lib/python3.11/site-packages/pydantic/_internal/_generate_schema.py:623: UserWarning: <built-in function array> is not a Python type (it may be an instance of an object), Pydantic will allow any object with no validation since we cannot even enforce that the input is an instance of the given type. To get rid of this error wrap the type with `pydantic.SkipValidation`.\n",
      "  warn(\n",
      "/Users/movil1/envs/pe/lib/python3.11/site-packages/pydantic/_internal/_generate_schema.py:623: UserWarning: <built-in function array> is not a Python type (it may be an instance of an object), Pydantic will allow any object with no validation since we cannot even enforce that the input is an instance of the given type. To get rid of this error wrap the type with `pydantic.SkipValidation`.\n",
      "  warn(\n",
      "Error importing in API mode: ImportError(\"dlopen(/Users/movil1/envs/pe/lib/python3.11/site-packages/_rinterface_cffi_api.abi3.so, 0x0002): Library not loaded: /Library/Frameworks/R.framework/Versions/4.5-arm64/Resources/lib/libRblas.dylib\\n  Referenced from: <38886600-97A2-37BA-9F86-5263C9A3CF6D> /Users/movil1/envs/pe/lib/python3.11/site-packages/_rinterface_cffi_api.abi3.so\\n  Reason: tried: '/Library/Frameworks/R.framework/Versions/4.5-arm64/Resources/lib/libRblas.dylib' (no such file), '/System/Volumes/Preboot/Cryptexes/OS/Library/Frameworks/R.framework/Versions/4.5-arm64/Resources/lib/libRblas.dylib' (no such file), '/Library/Frameworks/R.framework/Versions/4.5-arm64/Resources/lib/libRblas.dylib' (no such file), '/opt/homebrew/Cellar/r/4.5.0/lib/R/lib/libRblas.dylib' (no such file)\")\n",
      "Error importing in API mode: ImportError(\"dlopen(/Users/movil1/envs/pe/lib/python3.11/site-packages/_rinterface_cffi_api.abi3.so, 0x0002): Library not loaded: /Library/Frameworks/R.framework/Versions/4.5-arm64/Resources/lib/libRblas.dylib\\n  Referenced from: <38886600-97A2-37BA-9F86-5263C9A3CF6D> /Users/movil1/envs/pe/lib/python3.11/site-packages/_rinterface_cffi_api.abi3.so\\n  Reason: tried: '/Library/Frameworks/R.framework/Versions/4.5-arm64/Resources/lib/libRblas.dylib' (no such file), '/System/Volumes/Preboot/Cryptexes/OS/Library/Frameworks/R.framework/Versions/4.5-arm64/Resources/lib/libRblas.dylib' (no such file), '/Library/Frameworks/R.framework/Versions/4.5-arm64/Resources/lib/libRblas.dylib' (no such file), '/opt/homebrew/Cellar/r/4.5.0/lib/R/lib/libRblas.dylib' (no such file)\")\n",
      "Trying to import in ABI mode.\n",
      "Trying to import in ABI mode.\n",
      "Error importing in API mode: ImportError(\"dlopen(/Users/movil1/envs/pe/lib/python3.11/site-packages/_rinterface_cffi_api.abi3.so, 0x0002): Library not loaded: /Library/Frameworks/R.framework/Versions/4.5-arm64/Resources/lib/libRblas.dylib\\n  Referenced from: <38886600-97A2-37BA-9F86-5263C9A3CF6D> /Users/movil1/envs/pe/lib/python3.11/site-packages/_rinterface_cffi_api.abi3.so\\n  Reason: tried: '/Library/Frameworks/R.framework/Versions/4.5-arm64/Resources/lib/libRblas.dylib' (no such file), '/System/Volumes/Preboot/Cryptexes/OS/Library/Frameworks/R.framework/Versions/4.5-arm64/Resources/lib/libRblas.dylib' (no such file), '/Library/Frameworks/R.framework/Versions/4.5-arm64/Resources/lib/libRblas.dylib' (no such file), '/opt/homebrew/Cellar/r/4.5.0/lib/R/lib/libRblas.dylib' (no such file)\")\n",
      "Trying to import in ABI mode.\n",
      "/Users/movil1/envs/pe/lib/python3.11/site-packages/rpy2/rinterface/__init__.py:1185: UserWarning: Environment variable \"R_SESSION_TMPDIR\" redefined by R and overriding existing variable. Current: \"/var/folders/yg/xdp70k_n4qj9ph1_0lm435c00000gp/T//RtmpmbCVKV\", R: \"/var/folders/yg/xdp70k_n4qj9ph1_0lm435c00000gp/T//RtmpKQTFFz\"\n",
      "  warnings.warn(\n",
      "/Users/movil1/envs/pe/lib/python3.11/site-packages/rpy2/rinterface/__init__.py:1185: UserWarning: Environment variable \"R_SESSION_TMPDIR\" redefined by R and overriding existing variable. Current: \"/var/folders/yg/xdp70k_n4qj9ph1_0lm435c00000gp/T//RtmpmbCVKV\", R: \"/var/folders/yg/xdp70k_n4qj9ph1_0lm435c00000gp/T//Rtmp6E3nDD\"\n",
      "  warnings.warn(\n",
      "/Users/movil1/envs/pe/lib/python3.11/site-packages/rpy2/rinterface/__init__.py:1185: UserWarning: Environment variable \"R_SESSION_TMPDIR\" redefined by R and overriding existing variable. Current: \"/var/folders/yg/xdp70k_n4qj9ph1_0lm435c00000gp/T//RtmpmbCVKV\", R: \"/var/folders/yg/xdp70k_n4qj9ph1_0lm435c00000gp/T//RtmppULRBO\"\n",
      "  warnings.warn(\n",
      "/Users/movil1/envs/pe/lib/python3.11/site-packages/rpy2/rinterface/__init__.py:1185: UserWarning: Environment variable \"R_SESSION_TMPDIR\" redefined by R and overriding existing variable. Current: \"/var/folders/yg/xdp70k_n4qj9ph1_0lm435c00000gp/T//Rtmp6E3nDD\", R: \"/var/folders/yg/xdp70k_n4qj9ph1_0lm435c00000gp/T//RtmpwGje8R\"\n",
      "  warnings.warn(\n",
      "/Users/movil1/envs/pe/lib/python3.11/site-packages/rpy2/rinterface/__init__.py:1185: UserWarning: Environment variable \"R_SESSION_TMPDIR\" redefined by R and overriding existing variable. Current: \"/var/folders/yg/xdp70k_n4qj9ph1_0lm435c00000gp/T//RtmpKQTFFz\", R: \"/var/folders/yg/xdp70k_n4qj9ph1_0lm435c00000gp/T//RtmpGRfvXT\"\n",
      "  warnings.warn(\n",
      "/Users/movil1/envs/pe/lib/python3.11/site-packages/rpy2/rinterface/__init__.py:1185: UserWarning: Environment variable \"R_SESSION_TMPDIR\" redefined by R and overriding existing variable. Current: \"/var/folders/yg/xdp70k_n4qj9ph1_0lm435c00000gp/T//RtmppULRBO\", R: \"/var/folders/yg/xdp70k_n4qj9ph1_0lm435c00000gp/T//RtmplQXxNZ\"\n",
      "  warnings.warn(\n"
     ]
    },
    {
     "data": {
      "text/html": [
       "<div>\n",
       "<style scoped>\n",
       "    .dataframe tbody tr th:only-of-type {\n",
       "        vertical-align: middle;\n",
       "    }\n",
       "\n",
       "    .dataframe tbody tr th {\n",
       "        vertical-align: top;\n",
       "    }\n",
       "\n",
       "    .dataframe thead th {\n",
       "        text-align: right;\n",
       "    }\n",
       "</style>\n",
       "<table border=\"1\" class=\"dataframe\">\n",
       "  <thead>\n",
       "    <tr style=\"text-align: right;\">\n",
       "      <th></th>\n",
       "      <th>0.05</th>\n",
       "      <th>0.10</th>\n",
       "      <th>0.15</th>\n",
       "      <th>0.20</th>\n",
       "      <th>0.25</th>\n",
       "      <th>...</th>\n",
       "      <th>0.75</th>\n",
       "      <th>0.80</th>\n",
       "      <th>0.85</th>\n",
       "      <th>0.90</th>\n",
       "      <th>0.95</th>\n",
       "    </tr>\n",
       "  </thead>\n",
       "  <tbody>\n",
       "    <tr>\n",
       "      <th>train</th>\n",
       "      <td>0.001631</td>\n",
       "      <td>0.003244</td>\n",
       "      <td>0.004382</td>\n",
       "      <td>0.005805</td>\n",
       "      <td>0.006767</td>\n",
       "      <td>...</td>\n",
       "      <td>0.004192</td>\n",
       "      <td>0.003737</td>\n",
       "      <td>0.003182</td>\n",
       "      <td>0.002629</td>\n",
       "      <td>0.001612</td>\n",
       "    </tr>\n",
       "    <tr>\n",
       "      <th>test</th>\n",
       "      <td>0.005359</td>\n",
       "      <td>0.008290</td>\n",
       "      <td>0.011379</td>\n",
       "      <td>0.013265</td>\n",
       "      <td>0.016155</td>\n",
       "      <td>...</td>\n",
       "      <td>0.017473</td>\n",
       "      <td>0.015594</td>\n",
       "      <td>0.013663</td>\n",
       "      <td>0.010822</td>\n",
       "      <td>0.007149</td>\n",
       "    </tr>\n",
       "  </tbody>\n",
       "</table>\n",
       "<p>2 rows × 19 columns</p>\n",
       "</div>"
      ],
      "text/plain": [
       "           0.05      0.10      0.15      0.20      0.25  ...      0.75      0.80      0.85      0.90      0.95\n",
       "train  0.001631  0.003244  0.004382  0.005805  0.006767  ...  0.004192  0.003737  0.003182  0.002629  0.001612\n",
       "test   0.005359  0.008290  0.011379  0.013265  0.016155  ...  0.017473  0.015594  0.013663  0.010822  0.007149\n",
       "\n",
       "[2 rows x 19 columns]"
      ]
     },
     "execution_count": 13,
     "metadata": {},
     "output_type": "execute_result"
    }
   ],
   "source": [
    "predictors = [\"age\", \"sex\", \"bmi\", \"bp\"]\n",
    "imputed_variables = [\"s1\", \"s4\"]\n",
    "\n",
    "# Run cross-validation on the same data set\n",
    "qrf_results = cross_validate_model(\n",
    "    QRF, diabetes_df, predictors, imputed_variables\n",
    ")\n",
    "\n",
    "qrf_results"
   ]
  },
  {
   "cell_type": "code",
   "execution_count": 14,
   "metadata": {},
   "outputs": [
    {
     "data": {
      "application/vnd.plotly.v1+json": {
       "config": {
        "plotlyServerURL": "https://plot.ly"
       },
       "data": [
        {
         "marker": {
          "color": "#00CC96"
         },
         "name": "Train",
         "type": "bar",
         "x": [
          "0.05",
          "0.1",
          "0.15",
          "0.2",
          "0.25",
          "0.3",
          "0.35",
          "0.4",
          "0.45",
          "0.5",
          "0.55",
          "0.6",
          "0.65",
          "0.7",
          "0.75",
          "0.8",
          "0.85",
          "0.9",
          "0.95"
         ],
         "y": [
          0.0016312468053413607,
          0.003244130299768864,
          0.004382175827268012,
          0.005805026443603406,
          0.006767152999499232,
          0.006748458663999616,
          0.006398745725198584,
          0.0070715479033122055,
          0.006677608377298874,
          0.006564352664477713,
          0.005545724481101477,
          0.005247269044157625,
          0.004495586705703906,
          0.004014010066060719,
          0.004191508584972236,
          0.0037367039382986385,
          0.003181515136765705,
          0.002629033549521119,
          0.001612119601135297
         ]
        },
        {
         "marker": {
          "color": "#AB63FA"
         },
         "name": "Test",
         "type": "bar",
         "x": [
          "0.05",
          "0.1",
          "0.15",
          "0.2",
          "0.25",
          "0.3",
          "0.35",
          "0.4",
          "0.45",
          "0.5",
          "0.55",
          "0.6",
          "0.65",
          "0.7",
          "0.75",
          "0.8",
          "0.85",
          "0.9",
          "0.95"
         ],
         "y": [
          0.005359408070292038,
          0.008289743567878743,
          0.01137887913164641,
          0.013265180854871004,
          0.016154547207729353,
          0.018565511050926627,
          0.01967062864048763,
          0.020663329773263073,
          0.022366323511996238,
          0.02208656981283186,
          0.021855799863116043,
          0.021287940092133684,
          0.020057171607187278,
          0.01897589538468778,
          0.01747348122421219,
          0.015594310464920607,
          0.013663242910644888,
          0.010821603740117133,
          0.007149025955790396
         ]
        }
       ],
       "layout": {
        "barmode": "group",
        "height": 600,
        "legend": {
         "x": 0.99,
         "xanchor": "right",
         "y": 0.99,
         "yanchor": "top"
        },
        "margin": {
         "b": 50,
         "l": 50,
         "r": 50,
         "t": 80
        },
        "paper_bgcolor": "#F0F0F0",
        "plot_bgcolor": "#F0F0F0",
        "template": {
         "data": {
          "bar": [
           {
            "error_x": {
             "color": "#2a3f5f"
            },
            "error_y": {
             "color": "#2a3f5f"
            },
            "marker": {
             "line": {
              "color": "#E5ECF6",
              "width": 0.5
             },
             "pattern": {
              "fillmode": "overlay",
              "size": 10,
              "solidity": 0.2
             }
            },
            "type": "bar"
           }
          ],
          "barpolar": [
           {
            "marker": {
             "line": {
              "color": "#E5ECF6",
              "width": 0.5
             },
             "pattern": {
              "fillmode": "overlay",
              "size": 10,
              "solidity": 0.2
             }
            },
            "type": "barpolar"
           }
          ],
          "carpet": [
           {
            "aaxis": {
             "endlinecolor": "#2a3f5f",
             "gridcolor": "white",
             "linecolor": "white",
             "minorgridcolor": "white",
             "startlinecolor": "#2a3f5f"
            },
            "baxis": {
             "endlinecolor": "#2a3f5f",
             "gridcolor": "white",
             "linecolor": "white",
             "minorgridcolor": "white",
             "startlinecolor": "#2a3f5f"
            },
            "type": "carpet"
           }
          ],
          "choropleth": [
           {
            "colorbar": {
             "outlinewidth": 0,
             "ticks": ""
            },
            "type": "choropleth"
           }
          ],
          "contour": [
           {
            "colorbar": {
             "outlinewidth": 0,
             "ticks": ""
            },
            "colorscale": [
             [
              0,
              "#0d0887"
             ],
             [
              0.1111111111111111,
              "#46039f"
             ],
             [
              0.2222222222222222,
              "#7201a8"
             ],
             [
              0.3333333333333333,
              "#9c179e"
             ],
             [
              0.4444444444444444,
              "#bd3786"
             ],
             [
              0.5555555555555556,
              "#d8576b"
             ],
             [
              0.6666666666666666,
              "#ed7953"
             ],
             [
              0.7777777777777778,
              "#fb9f3a"
             ],
             [
              0.8888888888888888,
              "#fdca26"
             ],
             [
              1,
              "#f0f921"
             ]
            ],
            "type": "contour"
           }
          ],
          "contourcarpet": [
           {
            "colorbar": {
             "outlinewidth": 0,
             "ticks": ""
            },
            "type": "contourcarpet"
           }
          ],
          "heatmap": [
           {
            "colorbar": {
             "outlinewidth": 0,
             "ticks": ""
            },
            "colorscale": [
             [
              0,
              "#0d0887"
             ],
             [
              0.1111111111111111,
              "#46039f"
             ],
             [
              0.2222222222222222,
              "#7201a8"
             ],
             [
              0.3333333333333333,
              "#9c179e"
             ],
             [
              0.4444444444444444,
              "#bd3786"
             ],
             [
              0.5555555555555556,
              "#d8576b"
             ],
             [
              0.6666666666666666,
              "#ed7953"
             ],
             [
              0.7777777777777778,
              "#fb9f3a"
             ],
             [
              0.8888888888888888,
              "#fdca26"
             ],
             [
              1,
              "#f0f921"
             ]
            ],
            "type": "heatmap"
           }
          ],
          "heatmapgl": [
           {
            "colorbar": {
             "outlinewidth": 0,
             "ticks": ""
            },
            "colorscale": [
             [
              0,
              "#0d0887"
             ],
             [
              0.1111111111111111,
              "#46039f"
             ],
             [
              0.2222222222222222,
              "#7201a8"
             ],
             [
              0.3333333333333333,
              "#9c179e"
             ],
             [
              0.4444444444444444,
              "#bd3786"
             ],
             [
              0.5555555555555556,
              "#d8576b"
             ],
             [
              0.6666666666666666,
              "#ed7953"
             ],
             [
              0.7777777777777778,
              "#fb9f3a"
             ],
             [
              0.8888888888888888,
              "#fdca26"
             ],
             [
              1,
              "#f0f921"
             ]
            ],
            "type": "heatmapgl"
           }
          ],
          "histogram": [
           {
            "marker": {
             "pattern": {
              "fillmode": "overlay",
              "size": 10,
              "solidity": 0.2
             }
            },
            "type": "histogram"
           }
          ],
          "histogram2d": [
           {
            "colorbar": {
             "outlinewidth": 0,
             "ticks": ""
            },
            "colorscale": [
             [
              0,
              "#0d0887"
             ],
             [
              0.1111111111111111,
              "#46039f"
             ],
             [
              0.2222222222222222,
              "#7201a8"
             ],
             [
              0.3333333333333333,
              "#9c179e"
             ],
             [
              0.4444444444444444,
              "#bd3786"
             ],
             [
              0.5555555555555556,
              "#d8576b"
             ],
             [
              0.6666666666666666,
              "#ed7953"
             ],
             [
              0.7777777777777778,
              "#fb9f3a"
             ],
             [
              0.8888888888888888,
              "#fdca26"
             ],
             [
              1,
              "#f0f921"
             ]
            ],
            "type": "histogram2d"
           }
          ],
          "histogram2dcontour": [
           {
            "colorbar": {
             "outlinewidth": 0,
             "ticks": ""
            },
            "colorscale": [
             [
              0,
              "#0d0887"
             ],
             [
              0.1111111111111111,
              "#46039f"
             ],
             [
              0.2222222222222222,
              "#7201a8"
             ],
             [
              0.3333333333333333,
              "#9c179e"
             ],
             [
              0.4444444444444444,
              "#bd3786"
             ],
             [
              0.5555555555555556,
              "#d8576b"
             ],
             [
              0.6666666666666666,
              "#ed7953"
             ],
             [
              0.7777777777777778,
              "#fb9f3a"
             ],
             [
              0.8888888888888888,
              "#fdca26"
             ],
             [
              1,
              "#f0f921"
             ]
            ],
            "type": "histogram2dcontour"
           }
          ],
          "mesh3d": [
           {
            "colorbar": {
             "outlinewidth": 0,
             "ticks": ""
            },
            "type": "mesh3d"
           }
          ],
          "parcoords": [
           {
            "line": {
             "colorbar": {
              "outlinewidth": 0,
              "ticks": ""
             }
            },
            "type": "parcoords"
           }
          ],
          "pie": [
           {
            "automargin": true,
            "type": "pie"
           }
          ],
          "scatter": [
           {
            "fillpattern": {
             "fillmode": "overlay",
             "size": 10,
             "solidity": 0.2
            },
            "type": "scatter"
           }
          ],
          "scatter3d": [
           {
            "line": {
             "colorbar": {
              "outlinewidth": 0,
              "ticks": ""
             }
            },
            "marker": {
             "colorbar": {
              "outlinewidth": 0,
              "ticks": ""
             }
            },
            "type": "scatter3d"
           }
          ],
          "scattercarpet": [
           {
            "marker": {
             "colorbar": {
              "outlinewidth": 0,
              "ticks": ""
             }
            },
            "type": "scattercarpet"
           }
          ],
          "scattergeo": [
           {
            "marker": {
             "colorbar": {
              "outlinewidth": 0,
              "ticks": ""
             }
            },
            "type": "scattergeo"
           }
          ],
          "scattergl": [
           {
            "marker": {
             "colorbar": {
              "outlinewidth": 0,
              "ticks": ""
             }
            },
            "type": "scattergl"
           }
          ],
          "scattermapbox": [
           {
            "marker": {
             "colorbar": {
              "outlinewidth": 0,
              "ticks": ""
             }
            },
            "type": "scattermapbox"
           }
          ],
          "scatterpolar": [
           {
            "marker": {
             "colorbar": {
              "outlinewidth": 0,
              "ticks": ""
             }
            },
            "type": "scatterpolar"
           }
          ],
          "scatterpolargl": [
           {
            "marker": {
             "colorbar": {
              "outlinewidth": 0,
              "ticks": ""
             }
            },
            "type": "scatterpolargl"
           }
          ],
          "scatterternary": [
           {
            "marker": {
             "colorbar": {
              "outlinewidth": 0,
              "ticks": ""
             }
            },
            "type": "scatterternary"
           }
          ],
          "surface": [
           {
            "colorbar": {
             "outlinewidth": 0,
             "ticks": ""
            },
            "colorscale": [
             [
              0,
              "#0d0887"
             ],
             [
              0.1111111111111111,
              "#46039f"
             ],
             [
              0.2222222222222222,
              "#7201a8"
             ],
             [
              0.3333333333333333,
              "#9c179e"
             ],
             [
              0.4444444444444444,
              "#bd3786"
             ],
             [
              0.5555555555555556,
              "#d8576b"
             ],
             [
              0.6666666666666666,
              "#ed7953"
             ],
             [
              0.7777777777777778,
              "#fb9f3a"
             ],
             [
              0.8888888888888888,
              "#fdca26"
             ],
             [
              1,
              "#f0f921"
             ]
            ],
            "type": "surface"
           }
          ],
          "table": [
           {
            "cells": {
             "fill": {
              "color": "#EBF0F8"
             },
             "line": {
              "color": "white"
             }
            },
            "header": {
             "fill": {
              "color": "#C8D4E3"
             },
             "line": {
              "color": "white"
             }
            },
            "type": "table"
           }
          ]
         },
         "layout": {
          "annotationdefaults": {
           "arrowcolor": "#2a3f5f",
           "arrowhead": 0,
           "arrowwidth": 1
          },
          "autotypenumbers": "strict",
          "coloraxis": {
           "colorbar": {
            "outlinewidth": 0,
            "ticks": ""
           }
          },
          "colorscale": {
           "diverging": [
            [
             0,
             "#8e0152"
            ],
            [
             0.1,
             "#c51b7d"
            ],
            [
             0.2,
             "#de77ae"
            ],
            [
             0.3,
             "#f1b6da"
            ],
            [
             0.4,
             "#fde0ef"
            ],
            [
             0.5,
             "#f7f7f7"
            ],
            [
             0.6,
             "#e6f5d0"
            ],
            [
             0.7,
             "#b8e186"
            ],
            [
             0.8,
             "#7fbc41"
            ],
            [
             0.9,
             "#4d9221"
            ],
            [
             1,
             "#276419"
            ]
           ],
           "sequential": [
            [
             0,
             "#0d0887"
            ],
            [
             0.1111111111111111,
             "#46039f"
            ],
            [
             0.2222222222222222,
             "#7201a8"
            ],
            [
             0.3333333333333333,
             "#9c179e"
            ],
            [
             0.4444444444444444,
             "#bd3786"
            ],
            [
             0.5555555555555556,
             "#d8576b"
            ],
            [
             0.6666666666666666,
             "#ed7953"
            ],
            [
             0.7777777777777778,
             "#fb9f3a"
            ],
            [
             0.8888888888888888,
             "#fdca26"
            ],
            [
             1,
             "#f0f921"
            ]
           ],
           "sequentialminus": [
            [
             0,
             "#0d0887"
            ],
            [
             0.1111111111111111,
             "#46039f"
            ],
            [
             0.2222222222222222,
             "#7201a8"
            ],
            [
             0.3333333333333333,
             "#9c179e"
            ],
            [
             0.4444444444444444,
             "#bd3786"
            ],
            [
             0.5555555555555556,
             "#d8576b"
            ],
            [
             0.6666666666666666,
             "#ed7953"
            ],
            [
             0.7777777777777778,
             "#fb9f3a"
            ],
            [
             0.8888888888888888,
             "#fdca26"
            ],
            [
             1,
             "#f0f921"
            ]
           ]
          },
          "colorway": [
           "#636efa",
           "#EF553B",
           "#00cc96",
           "#ab63fa",
           "#FFA15A",
           "#19d3f3",
           "#FF6692",
           "#B6E880",
           "#FF97FF",
           "#FECB52"
          ],
          "font": {
           "color": "#2a3f5f"
          },
          "geo": {
           "bgcolor": "white",
           "lakecolor": "white",
           "landcolor": "#E5ECF6",
           "showlakes": true,
           "showland": true,
           "subunitcolor": "white"
          },
          "hoverlabel": {
           "align": "left"
          },
          "hovermode": "closest",
          "mapbox": {
           "style": "light"
          },
          "paper_bgcolor": "white",
          "plot_bgcolor": "#E5ECF6",
          "polar": {
           "angularaxis": {
            "gridcolor": "white",
            "linecolor": "white",
            "ticks": ""
           },
           "bgcolor": "#E5ECF6",
           "radialaxis": {
            "gridcolor": "white",
            "linecolor": "white",
            "ticks": ""
           }
          },
          "scene": {
           "xaxis": {
            "backgroundcolor": "#E5ECF6",
            "gridcolor": "white",
            "gridwidth": 2,
            "linecolor": "white",
            "showbackground": true,
            "ticks": "",
            "zerolinecolor": "white"
           },
           "yaxis": {
            "backgroundcolor": "#E5ECF6",
            "gridcolor": "white",
            "gridwidth": 2,
            "linecolor": "white",
            "showbackground": true,
            "ticks": "",
            "zerolinecolor": "white"
           },
           "zaxis": {
            "backgroundcolor": "#E5ECF6",
            "gridcolor": "white",
            "gridwidth": 2,
            "linecolor": "white",
            "showbackground": true,
            "ticks": "",
            "zerolinecolor": "white"
           }
          },
          "shapedefaults": {
           "line": {
            "color": "#2a3f5f"
           }
          },
          "ternary": {
           "aaxis": {
            "gridcolor": "white",
            "linecolor": "white",
            "ticks": ""
           },
           "baxis": {
            "gridcolor": "white",
            "linecolor": "white",
            "ticks": ""
           },
           "bgcolor": "#E5ECF6",
           "caxis": {
            "gridcolor": "white",
            "linecolor": "white",
            "ticks": ""
           }
          },
          "title": {
           "x": 0.05
          },
          "xaxis": {
           "automargin": true,
           "gridcolor": "white",
           "linecolor": "white",
           "ticks": "",
           "title": {
            "standoff": 15
           },
           "zerolinecolor": "white",
           "zerolinewidth": 2
          },
          "yaxis": {
           "automargin": true,
           "gridcolor": "white",
           "linecolor": "white",
           "ticks": "",
           "title": {
            "standoff": 15
           },
           "zerolinecolor": "white",
           "zerolinewidth": 2
          }
         }
        },
        "title": {
         "text": "QRF Cross-Validation Performance"
        },
        "width": 750,
        "xaxis": {
         "showgrid": false,
         "title": {
          "text": "Quantile"
         },
         "zeroline": false
        },
        "yaxis": {
         "showgrid": false,
         "title": {
          "text": "Average Quantile Loss"
         },
         "zeroline": false
        }
       }
      }
     },
     "metadata": {},
     "output_type": "display_data"
    }
   ],
   "source": [
    "# Plot the results\n",
    "perf_results_viz = model_performance_results(\n",
    "    results=qrf_results,\n",
    "    model_name=\"QRF\",\n",
    "    method_name=\"Cross-Validation Quantile Loss Average\",\n",
    ")\n",
    "fig = perf_results_viz.plot(\n",
    "    title=\"QRF Cross-Validation Performance\",\n",
    ")\n",
    "fig.show()"
   ]
  },
  {
   "cell_type": "markdown",
   "metadata": {},
   "source": [
    "## Tuning the QRF model\n",
    "\n",
    "The QRF imputer supports various parameters that can be adjusted to improve performance. To set specific values you know increase performance for your specific dataset see below. Additionally, automatic hyperparameter tunning specific to the target dataset is enabled by setting the parameter `tune_hyperparameters` to True. "
   ]
  },
  {
   "cell_type": "code",
   "execution_count": 14,
   "metadata": {},
   "outputs": [
    {
     "name": "stdout",
     "output_type": "stream",
     "text": [
      "{'bootstrap': True, 'ccp_alpha': 0.0, 'criterion': 'squared_error', 'default_quantiles': 0.5, 'max_depth': None, 'max_features': 1.0, 'max_leaf_nodes': None, 'max_samples': None, 'max_samples_leaf': 1, 'min_impurity_decrease': 0.0, 'min_samples_leaf': 5, 'min_samples_split': 2, 'min_weight_fraction_leaf': 0.0, 'monotonic_cst': None, 'n_estimators': 100, 'n_jobs': None, 'oob_score': False, 'random_state': 42, 'verbose': 0, 'warm_start': False}\n"
     ]
    }
   ],
   "source": [
    "# Check the hyperparameters with which QRF was initialized\n",
    "print(fitted_qrf_imputer.models[imputed_variables[0]].qrf.get_params())"
   ]
  },
  {
   "cell_type": "code",
   "execution_count": 15,
   "metadata": {},
   "outputs": [
    {
     "name": "stdout",
     "output_type": "stream",
     "text": [
      "{'bootstrap': True, 'ccp_alpha': 0.0, 'criterion': 'squared_error', 'default_quantiles': 0.5, 'max_depth': 5, 'max_features': 1.0, 'max_leaf_nodes': None, 'max_samples': None, 'max_samples_leaf': 1, 'min_impurity_decrease': 0.0, 'min_samples_leaf': 10, 'min_samples_split': 2, 'min_weight_fraction_leaf': 0.0, 'monotonic_cst': None, 'n_estimators': 200, 'n_jobs': None, 'oob_score': False, 'random_state': 42, 'verbose': 0, 'warm_start': False}\n"
     ]
    }
   ],
   "source": [
    "# To set specific hyperparameters pass them when fitting the model\n",
    "fitted_qrf_imputer = qrf_imputer.fit(\n",
    "    X_train=df,\n",
    "    predictors=predictors,\n",
    "    imputed_variables=imputed_variables,\n",
    "    n_estimators=200,\n",
    "    min_samples_leaf=10,\n",
    "    max_depth=5,\n",
    ")\n",
    "\n",
    "print(fitted_qrf_imputer.models[imputed_variables[0]].qrf.get_params())"
   ]
  },
  {
   "cell_type": "code",
   "execution_count": null,
   "metadata": {},
   "outputs": [
    {
     "name": "stdout",
     "output_type": "stream",
     "text": [
      "{'bootstrap': False, 'ccp_alpha': 0.0, 'criterion': 'squared_error', 'default_quantiles': 0.5, 'max_depth': None, 'max_features': 0.9393649409516418, 'max_leaf_nodes': None, 'max_samples': None, 'max_samples_leaf': 1, 'min_impurity_decrease': 0.0, 'min_samples_leaf': 5, 'min_samples_split': 13, 'min_weight_fraction_leaf': 0.0, 'monotonic_cst': None, 'n_estimators': 55, 'n_jobs': None, 'oob_score': False, 'random_state': 42, 'verbose': 0, 'warm_start': False}\n"
     ]
    }
   ],
   "source": [
    "# To automatically tune hyperparameters to the specific dataset at hand\n",
    "fitted_qrf_imputer, best_tuned_params = qrf_imputer._fit(\n",
    "    X_train=df,\n",
    "    predictors=predictors,\n",
    "    imputed_variables=imputed_variables,\n",
    "    tune_hyperparameters=True,\n",
    ")\n",
    "\n",
    "print(best_tuned_params)"
   ]
  }
 ],
 "metadata": {
  "kernelspec": {
   "display_name": "pe",
   "language": "python",
   "name": "python3"
  },
  "language_info": {
   "codemirror_mode": {
    "name": "ipython",
    "version": 3
   },
   "file_extension": ".py",
   "mimetype": "text/x-python",
   "name": "python",
   "nbconvert_exporter": "python",
   "pygments_lexer": "ipython3",
   "version": "3.11.11"
  }
 },
 "nbformat": 4,
 "nbformat_minor": 4
}
